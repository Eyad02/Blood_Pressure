{
  "nbformat": 4,
  "nbformat_minor": 0,
  "metadata": {
    "colab": {
      "provenance": [],
      "collapsed_sections": [
        "Ylnq-rNpEKp9",
        "1QaTv1bSED2H",
        "NRAAKyCjM3TX",
        "ykgDI0cXEAcc",
        "Ka_871JnD6oE",
        "mBi7mcLTD2zB"
      ]
    },
    "kernelspec": {
      "name": "ir",
      "display_name": "R"
    },
    "language_info": {
      "name": "R"
    }
  },
  "cells": [
    {
      "cell_type": "markdown",
      "source": [
        "# Blood Pressure"
      ],
      "metadata": {
        "id": "KBR6v4d4A8dB"
      }
    },
    {
      "cell_type": "markdown",
      "source": [
        "In a small dose-finding study of a blood pressure reducing drug, 40 high blood pressure patients (systolic blood pressure at least 150 mmHg) were randomised over 4 concentrations of the active compound (arginine) in the drug: 0, 2, 5 and 10 mg per day. The outcome is the systolic blood pressure reduction after 2 months, measured in mmHg.\n",
        "\n",
        "NOTE: running this project in RSTUDIO would be much better"
      ],
      "metadata": {
        "id": "wEF1ICALAtXc"
      }
    },
    {
      "cell_type": "markdown",
      "source": [
        "##0.\tData reading and calling libraries"
      ],
      "metadata": {
        "id": "hE_YJhcCENzg"
      }
    },
    {
      "cell_type": "code",
      "execution_count": 82,
      "metadata": {
        "colab": {
          "base_uri": "https://localhost:8080/",
          "height": 286
        },
        "id": "auHn2F18AENa",
        "outputId": "c024df6c-c9b1-4e32-8182-670a08e29a84"
      },
      "outputs": [
        {
          "output_type": "display_data",
          "data": {
            "text/html": [
              "<table class=\"dataframe\">\n",
              "<caption>A data.frame: 6 × 3</caption>\n",
              "<thead>\n",
              "\t<tr><th></th><th scope=col>dose</th><th scope=col>bp.reduction</th><th scope=col>gender</th></tr>\n",
              "\t<tr><th></th><th scope=col>&lt;dbl&gt;</th><th scope=col>&lt;dbl&gt;</th><th scope=col>&lt;int&gt;</th></tr>\n",
              "</thead>\n",
              "<tbody>\n",
              "\t<tr><th scope=row>1</th><td>0</td><td> 3</td><td>0</td></tr>\n",
              "\t<tr><th scope=row>2</th><td>0</td><td> 5</td><td>0</td></tr>\n",
              "\t<tr><th scope=row>3</th><td>0</td><td>-2</td><td>0</td></tr>\n",
              "\t<tr><th scope=row>4</th><td>0</td><td>-5</td><td>1</td></tr>\n",
              "\t<tr><th scope=row>5</th><td>0</td><td> 0</td><td>0</td></tr>\n",
              "\t<tr><th scope=row>6</th><td>0</td><td> 5</td><td>0</td></tr>\n",
              "</tbody>\n",
              "</table>\n"
            ],
            "text/markdown": "\nA data.frame: 6 × 3\n\n| <!--/--> | dose &lt;dbl&gt; | bp.reduction &lt;dbl&gt; | gender &lt;int&gt; |\n|---|---|---|---|\n| 1 | 0 |  3 | 0 |\n| 2 | 0 |  5 | 0 |\n| 3 | 0 | -2 | 0 |\n| 4 | 0 | -5 | 1 |\n| 5 | 0 |  0 | 0 |\n| 6 | 0 |  5 | 0 |\n\n",
            "text/latex": "A data.frame: 6 × 3\n\\begin{tabular}{r|lll}\n  & dose & bp.reduction & gender\\\\\n  & <dbl> & <dbl> & <int>\\\\\n\\hline\n\t1 & 0 &  3 & 0\\\\\n\t2 & 0 &  5 & 0\\\\\n\t3 & 0 & -2 & 0\\\\\n\t4 & 0 & -5 & 1\\\\\n\t5 & 0 &  0 & 0\\\\\n\t6 & 0 &  5 & 0\\\\\n\\end{tabular}\n",
            "text/plain": [
              "  dose bp.reduction gender\n",
              "1 0     3           0     \n",
              "2 0     5           0     \n",
              "3 0    -2           0     \n",
              "4 0    -5           1     \n",
              "5 0     0           0     \n",
              "6 0     5           0     "
            ]
          },
          "metadata": {}
        }
      ],
      "source": [
        "\n",
        "library(ggplot2)\n",
        "library(car)\n",
        "library(car)\n",
        "library(report)\n",
        "\n",
        "\n",
        "load(\"BloodPressure.RData\")\n",
        "head(BloodPressure)"
      ]
    },
    {
      "cell_type": "markdown",
      "source": [
        "##1.\tDescriptive statistics"
      ],
      "metadata": {
        "id": "Ylnq-rNpEKp9"
      }
    },
    {
      "cell_type": "markdown",
      "source": [
        "###1.1\tSummarizing your data and calculate the following: mean, median, minimum, maximum, first and third quartile (for each variable)."
      ],
      "metadata": {
        "id": "rV1oIwx3OXJl"
      }
    },
    {
      "cell_type": "code",
      "source": [
        "summary(BloodPressure)"
      ],
      "metadata": {
        "colab": {
          "base_uri": "https://localhost:8080/",
          "height": 0
        },
        "id": "Njq7pq59OxGC",
        "outputId": "868f517a-a566-4de5-c04e-be134d07bd43"
      },
      "execution_count": 83,
      "outputs": [
        {
          "output_type": "display_data",
          "data": {
            "text/plain": [
              "      dose        bp.reduction        gender    \n",
              " Min.   : 0.00   Min.   :-8.000   Min.   :0.00  \n",
              " 1st Qu.: 1.50   1st Qu.: 2.750   1st Qu.:0.00  \n",
              " Median : 3.50   Median : 6.500   Median :0.00  \n",
              " Mean   : 4.25   Mean   : 7.625   Mean   :0.45  \n",
              " 3rd Qu.: 6.25   3rd Qu.:13.000   3rd Qu.:1.00  \n",
              " Max.   :10.00   Max.   :26.000   Max.   :1.00  "
            ]
          },
          "metadata": {}
        }
      ]
    },
    {
      "cell_type": "code",
      "source": [
        "mean(BloodPressure$bp.reduction)\n",
        "median(BloodPressure$bp.reduction)\n",
        "min(BloodPressure$bp.reduction)\n",
        "max(BloodPressure$bp.reduction)\n"
      ],
      "metadata": {
        "colab": {
          "base_uri": "https://localhost:8080/",
          "height": 0
        },
        "id": "FRMo56c1BIIO",
        "outputId": "0b9e1bb4-3238-4b52-f57e-58a32e7254d1"
      },
      "execution_count": 84,
      "outputs": [
        {
          "output_type": "display_data",
          "data": {
            "text/html": [
              "7.625"
            ],
            "text/markdown": "7.625",
            "text/latex": "7.625",
            "text/plain": [
              "[1] 7.625"
            ]
          },
          "metadata": {}
        },
        {
          "output_type": "display_data",
          "data": {
            "text/html": [
              "6.5"
            ],
            "text/markdown": "6.5",
            "text/latex": "6.5",
            "text/plain": [
              "[1] 6.5"
            ]
          },
          "metadata": {}
        },
        {
          "output_type": "display_data",
          "data": {
            "text/html": [
              "-8"
            ],
            "text/markdown": "-8",
            "text/latex": "-8",
            "text/plain": [
              "[1] -8"
            ]
          },
          "metadata": {}
        },
        {
          "output_type": "display_data",
          "data": {
            "text/html": [
              "26"
            ],
            "text/markdown": "26",
            "text/latex": "26",
            "text/plain": [
              "[1] 26"
            ]
          },
          "metadata": {}
        }
      ]
    },
    {
      "cell_type": "code",
      "source": [
        "print(\"First and Second quantile\")\n",
        "quan <- quantile(BloodPressure$bp.reduction, c(0.25, 0.75))\n",
        "quan"
      ],
      "metadata": {
        "colab": {
          "base_uri": "https://localhost:8080/",
          "height": 0
        },
        "id": "9X1rcP8UO3Ks",
        "outputId": "817d235c-7f8b-4c13-c78c-8b68350cfd98"
      },
      "execution_count": 85,
      "outputs": [
        {
          "output_type": "stream",
          "name": "stdout",
          "text": [
            "[1] \"First and Second quantile\"\n"
          ]
        },
        {
          "output_type": "display_data",
          "data": {
            "text/html": [
              "<style>\n",
              ".dl-inline {width: auto; margin:0; padding: 0}\n",
              ".dl-inline>dt, .dl-inline>dd {float: none; width: auto; display: inline-block}\n",
              ".dl-inline>dt::after {content: \":\\0020\"; padding-right: .5ex}\n",
              ".dl-inline>dt:not(:first-of-type) {padding-left: .5ex}\n",
              "</style><dl class=dl-inline><dt>25%</dt><dd>2.75</dd><dt>75%</dt><dd>13</dd></dl>\n"
            ],
            "text/markdown": "25%\n:   2.7575%\n:   13\n\n",
            "text/latex": "\\begin{description*}\n\\item[25\\textbackslash{}\\%] 2.75\n\\item[75\\textbackslash{}\\%] 13\n\\end{description*}\n",
            "text/plain": [
              "  25%   75% \n",
              " 2.75 13.00 "
            ]
          },
          "metadata": {}
        }
      ]
    },
    {
      "cell_type": "markdown",
      "source": [
        "###1.2  For the categorical variable (Gender)"
      ],
      "metadata": {
        "id": "pKEWaVFOOcn5"
      }
    },
    {
      "cell_type": "code",
      "source": [
        "BloodPressure$gender <- factor(BloodPressure$gender, labels = c(\"Female\", \"Male\"))\n",
        "table(BloodPressure$gender)\n",
        "\n",
        "# Counting number of doses in the study using table()\n",
        "table(BloodPressure$dose)"
      ],
      "metadata": {
        "colab": {
          "base_uri": "https://localhost:8080/",
          "height": 0
        },
        "id": "kzHmO5cWOdF6",
        "outputId": "5228f7ac-7d97-42c0-ff5b-a0b6e9dd504a"
      },
      "execution_count": 86,
      "outputs": [
        {
          "output_type": "display_data",
          "data": {
            "text/plain": [
              "\n",
              "Female   Male \n",
              "    22     18 "
            ]
          },
          "metadata": {}
        },
        {
          "output_type": "display_data",
          "data": {
            "text/plain": [
              "\n",
              " 0  2  5 10 \n",
              "10 10 10 10 "
            ]
          },
          "metadata": {}
        }
      ]
    },
    {
      "cell_type": "markdown",
      "source": [
        "###1.3 Calculating the correlation of bp.reduction and dose\n"
      ],
      "metadata": {
        "id": "TigVVTalOdje"
      }
    },
    {
      "cell_type": "code",
      "source": [
        "cor(BloodPressure$bp.reduction, BloodPressure$dose)"
      ],
      "metadata": {
        "colab": {
          "base_uri": "https://localhost:8080/",
          "height": 0
        },
        "id": "GCkkZhNMOekk",
        "outputId": "8d7e5141-fdd6-4113-de41-974e7e4365cb"
      },
      "execution_count": 87,
      "outputs": [
        {
          "output_type": "display_data",
          "data": {
            "text/html": [
              "0.859494412933448"
            ],
            "text/markdown": "0.859494412933448",
            "text/latex": "0.859494412933448",
            "text/plain": [
              "[1] 0.8594944"
            ]
          },
          "metadata": {}
        }
      ]
    },
    {
      "cell_type": "markdown",
      "source": [
        "##2.\tGraphics"
      ],
      "metadata": {
        "id": "1QaTv1bSED2H"
      }
    },
    {
      "cell_type": "markdown",
      "source": [
        "###2.1\tGenerating a bar chart of a categorical variable for the gender."
      ],
      "metadata": {
        "id": "ujaepYZNMbk8"
      }
    },
    {
      "cell_type": "code",
      "source": [
        "barplot(table(BloodPressure$gender), main = \"Gender Distribution\", xlab = \"Gender\", ylab = \"Frequency\",col=c(\"pink\",\"blue\"))"
      ],
      "metadata": {
        "colab": {
          "base_uri": "https://localhost:8080/",
          "height": 0
        },
        "id": "3QpjtAg1MfGW",
        "outputId": "be83e5fc-9222-493c-95f5-d9d23208de1e"
      },
      "execution_count": 88,
      "outputs": [
        {
          "output_type": "display_data",
          "data": {
            "text/plain": [
              "Plot with title “Gender Distribution”"
            ],
            "image/png": "[encoded data removed]"
          },
          "metadata": {
            "image/png": {
              "width": 420,
              "height": 420
            }
          }
        }
      ]
    },
    {
      "cell_type": "markdown",
      "source": [
        "###2.2\tGenerating a bar chart graph with mean bp.reduction in  males and females\n"
      ],
      "metadata": {
        "id": "H7I78RUvMbd9"
      }
    },
    {
      "cell_type": "code",
      "source": [
        "barplot(tapply(BloodPressure$bp.reduction, BloodPressure$gender, mean), main = \"bp.reduction in males and females \", xlab = \"Mean age\", names = c(\"Male\", \"Female\"), ylab = \"Gender\",col=c(\"blue\",\"pink\"),ylim=c(0,10))\n"
      ],
      "metadata": {
        "colab": {
          "base_uri": "https://localhost:8080/",
          "height": 0
        },
        "id": "i9qkjjpmMgKy",
        "outputId": "ea4ae348-dd0b-43cd-a310-9ae6e9a5dcb5"
      },
      "execution_count": 89,
      "outputs": [
        {
          "output_type": "display_data",
          "data": {
            "text/plain": [
              "Plot with title “bp.reduction in males and females ”"
            ],
            "image/png": "[encoded data removed]"
          },
          "metadata": {
            "image/png": {
              "width": 420,
              "height": 420
            }
          }
        }
      ]
    },
    {
      "cell_type": "markdown",
      "source": [
        "###2.3\tMaking a histogram of a continuous variable “Dose”, “bp.reduction”.\n"
      ],
      "metadata": {
        "id": "VHwgDdzNMbUY"
      }
    },
    {
      "cell_type": "code",
      "source": [
        "hist(BloodPressure$dose, main = \"Dose Hist\", xlab = \"Dose\")\n",
        "hist(BloodPressure$bp.reduction, main = \"Blood Pressure Reduction Hist\", xlab = \"BP reduction\")"
      ],
      "metadata": {
        "colab": {
          "base_uri": "https://localhost:8080/",
          "height": 0
        },
        "id": "37NASVEOMgy6",
        "outputId": "681efc61-5db5-477f-8e71-8a32bb2d683c"
      },
      "execution_count": 90,
      "outputs": [
        {
          "output_type": "display_data",
          "data": {
            "text/plain": [
              "Plot with title “Dose Hist”"
            ],
            "image/png": "[encoded data removed]"
          },
          "metadata": {
            "image/png": {
              "width": 420,
              "height": 420
            }
          }
        },
        {
          "output_type": "display_data",
          "data": {
            "text/plain": [
              "Plot with title “Blood Pressure Reduction Hist”"
            ],
            "image/png": "[encoded data removed]"
          },
          "metadata": {
            "image/png": {
              "width": 420,
              "height": 420
            }
          }
        }
      ]
    },
    {
      "cell_type": "markdown",
      "source": [
        "###2.4\tMaking a scatterplot of 2 continuous variables Dose and bp.reduction, and add the regression lines for each gender"
      ],
      "metadata": {
        "id": "dAwfKMEaMbD-"
      }
    },
    {
      "cell_type": "code",
      "source": [
        "plot(bp.reduction[gender == \"Male\"]~ dose[gender == \"Male\"], data = BloodPressure, col= \"blue\", xlab = \"Dose\", ylab = \"Blood Pressure Reduction\")\n",
        "points(bp.reduction[gender == \"Female\"]~ dose[gender == \"Female\"], data = BloodPressure, col = \"red\")\n",
        "abline(lm(bp.reduction[gender == \"Male\"]~ dose[gender == \"Male\"], data = BloodPressure), col= \"blue\")\n",
        "abline(lm(bp.reduction[gender == \"Female\"]~ dose[gender == \"Female\"], data = BloodPressure), col= \"red\")\n",
        "\n",
        "legend(\"topleft\", legend = c(\"Male\", \"Female\"), fill = c(\"blue\", \"red\"), cex = 1)"
      ],
      "metadata": {
        "colab": {
          "base_uri": "https://localhost:8080/",
          "height": 0
        },
        "id": "7Jlvx09ICVDc",
        "outputId": "398e61df-2865-4e3c-b3ad-7f2a739cd14d"
      },
      "execution_count": 91,
      "outputs": [
        {
          "output_type": "display_data",
          "data": {
            "text/plain": [
              "plot without title"
            ],
            "image/png": "[encoded data removed]"
          },
          "metadata": {
            "image/png": {
              "width": 420,
              "height": 420
            }
          }
        }
      ]
    },
    {
      "cell_type": "markdown",
      "source": [
        "###2.5  Making a boxplot of bloodpressure reduction and a separate boxplots per Doses (as.factors).\n"
      ],
      "metadata": {
        "id": "NRAAKyCjM3TX"
      }
    },
    {
      "cell_type": "code",
      "source": [
        "boxplot(BloodPressure$bp.reduction~as.factor(BloodPressure$dose), xlab = \"Doses\", ylab = \"BloodPressure reduction\", main = \"Box plot per Doses\")"
      ],
      "metadata": {
        "colab": {
          "base_uri": "https://localhost:8080/",
          "height": 0
        },
        "id": "YvtRG6itM4im",
        "outputId": "b0e6dabb-2655-4bd0-a4d1-65dd35a4af2c"
      },
      "execution_count": 92,
      "outputs": [
        {
          "output_type": "display_data",
          "data": {
            "text/plain": [
              "Plot with title “Box plot per Doses”"
            ],
            "image/png": "[encoded data removed]"
          },
          "metadata": {
            "image/png": {
              "width": 420,
              "height": 420
            }
          }
        }
      ]
    },
    {
      "cell_type": "markdown",
      "source": [
        "##3.\tOutlier detection"
      ],
      "metadata": {
        "id": "ykgDI0cXEAcc"
      }
    },
    {
      "cell_type": "markdown",
      "source": [
        "###3.1  Exploring the data for any existing outliers, identify them (do NOT remove them if found).\n"
      ],
      "metadata": {
        "id": "ltjeVh7MNZNO"
      }
    },
    {
      "cell_type": "code",
      "source": [
        "boxplot(BloodPressure$gender, main = \"box plot for gender\")\n",
        "boxplot(BloodPressure$dose, main = \"box plot for dose\")\n",
        "boxplot(BloodPressure$bp.reduction, main = \"box plot for bp.reduction\")"
      ],
      "metadata": {
        "colab": {
          "base_uri": "https://localhost:8080/",
          "height": 0
        },
        "id": "ZQGA2wZlNYCX",
        "outputId": "a3097e88-4a20-4d33-a6cf-4f7786842bcb"
      },
      "execution_count": 93,
      "outputs": [
        {
          "output_type": "display_data",
          "data": {
            "text/plain": [
              "Plot with title “box plot for gender”"
            ],
            "image/png": "[encoded data removed]"
          },
          "metadata": {
            "image/png": {
              "width": 420,
              "height": 420
            }
          }
        },
        {
          "output_type": "display_data",
          "data": {
            "text/plain": [
              "Plot with title “box plot for dose”"
            ],
            "image/png": "[encoded data removed]"
          },
          "metadata": {
            "image/png": {
              "width": 420,
              "height": 420
            }
          }
        },
        {
          "output_type": "display_data",
          "data": {
            "text/plain": [
              "Plot with title “box plot for bp.reduction”"
            ],
            "image/png": "[encoded data removed]"
          },
          "metadata": {
            "image/png": {
              "width": 420,
              "height": 420
            }
          }
        }
      ]
    },
    {
      "cell_type": "markdown",
      "source": [
        "###3.2\tWhat do you think?"
      ],
      "metadata": {
        "id": "S-M42RIINytB"
      }
    },
    {
      "cell_type": "markdown",
      "source": [
        "There are no outliers, Which means that, within our dataset, there are no extreme or unusual values that stand out from the rest of the data. In other words, all the data points are relatively consistent and do not exhibit any remarkable deviations."
      ],
      "metadata": {
        "id": "PIh9M73yNaCY"
      }
    },
    {
      "cell_type": "markdown",
      "source": [
        "##4.\tTesting for normality/ homoscedasticity"
      ],
      "metadata": {
        "id": "Ka_871JnD6oE"
      }
    },
    {
      "cell_type": "markdown",
      "source": [
        "###4.1\tChecking the normality using two methods"
      ],
      "metadata": {
        "id": "FmpdAN_0MNlp"
      }
    },
    {
      "cell_type": "code",
      "source": [
        "qqnorm(BloodPressure$bp.reduction)\n",
        "qqline(BloodPressure$bp.reduction)\n",
        "\n",
        "shapiro.test(BloodPressure$bp.reduction) #0.806\n",
        "# there is no significant difference so we cannot reject the null hypothesis (normality)"
      ],
      "metadata": {
        "colab": {
          "base_uri": "https://localhost:8080/",
          "height": 0
        },
        "id": "p28FnWGWCtMw",
        "outputId": "e43845f3-f79f-4e13-b2b6-32968b7ce60d"
      },
      "execution_count": 94,
      "outputs": [
        {
          "output_type": "display_data",
          "data": {
            "text/plain": [
              "\n",
              "\tShapiro-Wilk normality test\n",
              "\n",
              "data:  BloodPressure$bp.reduction\n",
              "W = 0.98321, p-value = 0.806\n"
            ]
          },
          "metadata": {}
        },
        {
          "output_type": "display_data",
          "data": {
            "text/plain": [
              "Plot with title “Normal Q-Q Plot”"
            ],
            "image/png": "[encoded data removed]"
          },
          "metadata": {
            "image/png": {
              "width": 420,
              "height": 420
            }
          }
        }
      ]
    },
    {
      "cell_type": "markdown",
      "source": [
        "###4.2\tChecking the homoscedasticity using two methods."
      ],
      "metadata": {
        "id": "jxHCqIUDLdaC"
      }
    },
    {
      "cell_type": "code",
      "source": [
        "leveneTest(BloodPressure$bp.reduction, BloodPressure$dose)\n",
        "\n",
        "bartlett.test(BloodPressure$bp.reduction, BloodPressure$dose)\n",
        "# there is no significant difference so we cannot reject the null hypothesis (homoscedasticity)"
      ],
      "metadata": {
        "colab": {
          "base_uri": "https://localhost:8080/",
          "height": 0
        },
        "id": "CBjn30TLLeNy",
        "outputId": "29848812-59cf-42ee-f6e8-2b6c269d3909"
      },
      "execution_count": 95,
      "outputs": [
        {
          "output_type": "stream",
          "name": "stderr",
          "text": [
            "Warning message in leveneTest.default(BloodPressure$bp.reduction, BloodPressure$dose):\n",
            "“BloodPressure$dose coerced to factor.”\n"
          ]
        },
        {
          "output_type": "display_data",
          "data": {
            "text/html": [
              "<table class=\"dataframe\">\n",
              "<caption>A anova: 2 × 3</caption>\n",
              "<thead>\n",
              "\t<tr><th></th><th scope=col>Df</th><th scope=col>F value</th><th scope=col>Pr(&gt;F)</th></tr>\n",
              "\t<tr><th></th><th scope=col>&lt;int&gt;</th><th scope=col>&lt;dbl&gt;</th><th scope=col>&lt;dbl&gt;</th></tr>\n",
              "</thead>\n",
              "<tbody>\n",
              "\t<tr><th scope=row>group</th><td> 3</td><td>0.9517159</td><td>0.425965</td></tr>\n",
              "\t<tr><th scope=row> </th><td>36</td><td>       NA</td><td>      NA</td></tr>\n",
              "</tbody>\n",
              "</table>\n"
            ],
            "text/markdown": "\nA anova: 2 × 3\n\n| <!--/--> | Df &lt;int&gt; | F value &lt;dbl&gt; | Pr(&gt;F) &lt;dbl&gt; |\n|---|---|---|---|\n| group |  3 | 0.9517159 | 0.425965 |\n| <!----> | 36 |        NA |       NA |\n\n",
            "text/latex": "A anova: 2 × 3\n\\begin{tabular}{r|lll}\n  & Df & F value & Pr(>F)\\\\\n  & <int> & <dbl> & <dbl>\\\\\n\\hline\n\tgroup &  3 & 0.9517159 & 0.425965\\\\\n\t  & 36 &        NA &       NA\\\\\n\\end{tabular}\n",
            "text/plain": [
              "      Df F value   Pr(>F)  \n",
              "group  3 0.9517159 0.425965\n",
              "      36        NA       NA"
            ]
          },
          "metadata": {}
        },
        {
          "output_type": "display_data",
          "data": {
            "text/plain": [
              "\n",
              "\tBartlett test of homogeneity of variances\n",
              "\n",
              "data:  BloodPressure$bp.reduction and BloodPressure$dose\n",
              "Bartlett's K-squared = 3.9235, df = 3, p-value = 0.2698\n"
            ]
          },
          "metadata": {}
        }
      ]
    },
    {
      "cell_type": "markdown",
      "source": [
        "###4.3\tWhat do you think?\n",
        "\n"
      ],
      "metadata": {
        "id": "rQT4sdTnLemS"
      }
    },
    {
      "cell_type": "markdown",
      "source": [
        "As in the qq plot or the shapiro test the data is normally distributed p value = 0.806.\n",
        "Therefore, there is no significant difference, we dont have enough evidence to reject the null hypothosis\n",
        "which is the normallity and according to bartlett test we cannot reject the null hypothesis(homoscedasticity)"
      ],
      "metadata": {
        "id": "Sj9qu2BeMBVG"
      }
    },
    {
      "cell_type": "markdown",
      "source": [
        "##5.\tStatistical Inference"
      ],
      "metadata": {
        "id": "mBi7mcLTD2zB"
      }
    },
    {
      "cell_type": "markdown",
      "source": [
        "###5.1\tCalculating the 90%, 95%, 99% confidence interval for the means of bp.reduction per each Dose.\n"
      ],
      "metadata": {
        "id": "x_3AI2EZOLRX"
      }
    },
    {
      "cell_type": "code",
      "source": [
        "#90%\n",
        "confint(lm(bp.reduction~dose, data = BloodPressure), level = 0.90)\n",
        "#95%\n",
        "confint(lm(bp.reduction~dose, data = BloodPressure))\n",
        "#99%\n",
        "confint(lm(bp.reduction~dose, data = BloodPressure), level = 0.99)\n"
      ],
      "metadata": {
        "colab": {
          "base_uri": "https://localhost:8080/",
          "height": 0
        },
        "id": "NJ4eahCVC42A",
        "outputId": "e71f8963-7f40-4da0-9472-81086b65c0d4"
      },
      "execution_count": 96,
      "outputs": [
        {
          "output_type": "display_data",
          "data": {
            "text/html": [
              "<table class=\"dataframe\">\n",
              "<caption>A matrix: 2 × 2 of type dbl</caption>\n",
              "<thead>\n",
              "\t<tr><th></th><th scope=col>5 %</th><th scope=col>95 %</th></tr>\n",
              "</thead>\n",
              "<tbody>\n",
              "\t<tr><th scope=row>(Intercept)</th><td>-1.616965</td><td>1.683044</td></tr>\n",
              "\t<tr><th scope=row>dose</th><td> 1.495794</td><td>2.076893</td></tr>\n",
              "</tbody>\n",
              "</table>\n"
            ],
            "text/markdown": "\nA matrix: 2 × 2 of type dbl\n\n| <!--/--> | 5 % | 95 % |\n|---|---|---|\n| (Intercept) | -1.616965 | 1.683044 |\n| dose |  1.495794 | 2.076893 |\n\n",
            "text/latex": "A matrix: 2 × 2 of type dbl\n\\begin{tabular}{r|ll}\n  & 5 \\% & 95 \\%\\\\\n\\hline\n\t(Intercept) & -1.616965 & 1.683044\\\\\n\tdose &  1.495794 & 2.076893\\\\\n\\end{tabular}\n",
            "text/plain": [
              "            5 %       95 %    \n",
              "(Intercept) -1.616965 1.683044\n",
              "dose         1.495794 2.076893"
            ]
          },
          "metadata": {}
        },
        {
          "output_type": "display_data",
          "data": {
            "text/html": [
              "<table class=\"dataframe\">\n",
              "<caption>A matrix: 2 × 2 of type dbl</caption>\n",
              "<thead>\n",
              "\t<tr><th></th><th scope=col>2.5 %</th><th scope=col>97.5 %</th></tr>\n",
              "</thead>\n",
              "<tbody>\n",
              "\t<tr><th scope=row>(Intercept)</th><td>-1.948188</td><td>2.014267</td></tr>\n",
              "\t<tr><th scope=row>dose</th><td> 1.437469</td><td>2.135218</td></tr>\n",
              "</tbody>\n",
              "</table>\n"
            ],
            "text/markdown": "\nA matrix: 2 × 2 of type dbl\n\n| <!--/--> | 2.5 % | 97.5 % |\n|---|---|---|\n| (Intercept) | -1.948188 | 2.014267 |\n| dose |  1.437469 | 2.135218 |\n\n",
            "text/latex": "A matrix: 2 × 2 of type dbl\n\\begin{tabular}{r|ll}\n  & 2.5 \\% & 97.5 \\%\\\\\n\\hline\n\t(Intercept) & -1.948188 & 2.014267\\\\\n\tdose &  1.437469 & 2.135218\\\\\n\\end{tabular}\n",
            "text/plain": [
              "            2.5 %     97.5 %  \n",
              "(Intercept) -1.948188 2.014267\n",
              "dose         1.437469 2.135218"
            ]
          },
          "metadata": {}
        },
        {
          "output_type": "display_data",
          "data": {
            "text/html": [
              "<table class=\"dataframe\">\n",
              "<caption>A matrix: 2 × 2 of type dbl</caption>\n",
              "<thead>\n",
              "\t<tr><th></th><th scope=col>0.5 %</th><th scope=col>99.5 %</th></tr>\n",
              "</thead>\n",
              "<tbody>\n",
              "\t<tr><th scope=row>(Intercept)</th><td>-2.620699</td><td>2.686778</td></tr>\n",
              "\t<tr><th scope=row>dose</th><td> 1.319046</td><td>2.253641</td></tr>\n",
              "</tbody>\n",
              "</table>\n"
            ],
            "text/markdown": "\nA matrix: 2 × 2 of type dbl\n\n| <!--/--> | 0.5 % | 99.5 % |\n|---|---|---|\n| (Intercept) | -2.620699 | 2.686778 |\n| dose |  1.319046 | 2.253641 |\n\n",
            "text/latex": "A matrix: 2 × 2 of type dbl\n\\begin{tabular}{r|ll}\n  & 0.5 \\% & 99.5 \\%\\\\\n\\hline\n\t(Intercept) & -2.620699 & 2.686778\\\\\n\tdose &  1.319046 & 2.253641\\\\\n\\end{tabular}\n",
            "text/plain": [
              "            0.5 %     99.5 %  \n",
              "(Intercept) -2.620699 2.686778\n",
              "dose         1.319046 2.253641"
            ]
          },
          "metadata": {}
        }
      ]
    },
    {
      "cell_type": "markdown",
      "source": [
        "###5.2\tHow would you describe those inferences and what do you observe in terms of the interval width when request higher confidence (i.e. 99% C.I.)?"
      ],
      "metadata": {
        "id": "ROGYAKDLN57P"
      }
    },
    {
      "cell_type": "markdown",
      "source": [
        "Ans: •\tA confidence interval is an estimated range of values that, with a given level of certainty, contain the real population parameter. As we request higher confidence intervals the intervals shrink and get more accurate."
      ],
      "metadata": {
        "id": "MDCfBmhWN5Xe"
      }
    },
    {
      "cell_type": "markdown",
      "source": [
        "##6.\tHypothesis testing"
      ],
      "metadata": {
        "id": "Sy5mV6E7Dytv"
      }
    },
    {
      "cell_type": "markdown",
      "source": [
        "###6.1\tWe hypothesis that bp.reduction is different between male vs female (in the group that received placebo, i.e. Dose = 0).Assuming normality and homoscedasticity, can you test this hypothesis using statistical hypothesis framework"
      ],
      "metadata": {
        "id": "t1OG3rRuPV5p"
      }
    },
    {
      "cell_type": "code",
      "source": [
        "# Null hypothesis: bp.reduction is no different between male vs female (in the group that received placebo, i.e. Dose = 0)\n",
        "# Alternative hypothesis: bp.reduction is different between male vs female (in the group that received placebo, i.e. Dose = 0)\n",
        "\n",
        "t.test(BloodPressure$bp.reduction[BloodPressure$dose == \"dose_0\"]~BloodPressure$gender[BloodPressure$dose==\"dose_0\"], var.equal = T)\n",
        "\n",
        "\n",
        "#\tAssessing whether the previous assumptions have been meet for the test.\n",
        "\n",
        "shapiro.test(BloodPressure$bp.reduction[BloodPressure$dose == \"dose_0\" & BloodPressure$gender==\"Female\"])\n",
        "shapiro.test(BloodPressure$bp.reduction[BloodPressure$dose == \"dose_0\" & BloodPressure$gender==\"Male\"])\n",
        "\n",
        "leveneTest(BloodPressure$bp.reduction[BloodPressure$dose == \"dose_0\"]~BloodPressure$gender[BloodPressure$dose==\"dose_0\"])\n",
        "bartlett.test(BloodPressure$bp.reduction[BloodPressure$dose == \"dose_0\"]~BloodPressure$gender[BloodPressure$dose==\"dose_0\"])\n",
        "var.test(BloodPressure$bp.reduction[BloodPressure$dose == \"dose_0\"]~BloodPressure$gender[BloodPressure$dose==\"dose_0\"])\n",
        "# Ans: According to the p value = 0.01679 we can reject the null hypothesis therefore, there is a significant difference between males and females in dose = 0\n",
        "# the assumption is correct"
      ],
      "metadata": {
        "colab": {
          "base_uri": "https://localhost:8080/",
          "height": 227
        },
        "id": "XjX6eqyVPWe7",
        "outputId": "79ce5de1-0c81-45ff-b805-f2cdd462ed0e"
      },
      "execution_count": 97,
      "outputs": [
        {
          "output_type": "error",
          "ename": "ERROR",
          "evalue": "ignored",
          "traceback": [
            "Error in t.test.formula(BloodPressure$bp.reduction[BloodPressure$dose == : grouping factor must have exactly 2 levels\nTraceback:\n",
            "1. t.test(BloodPressure$bp.reduction[BloodPressure$dose == \"dose_0\"] ~ \n .     BloodPressure$gender[BloodPressure$dose == \"dose_0\"], var.equal = T)",
            "2. t.test.formula(BloodPressure$bp.reduction[BloodPressure$dose == \n .     \"dose_0\"] ~ BloodPressure$gender[BloodPressure$dose == \"dose_0\"], \n .     var.equal = T)",
            "3. stop(\"grouping factor must have exactly 2 levels\")"
          ]
        }
      ]
    },
    {
      "cell_type": "markdown",
      "source": [
        "###6.2\tWe hypothesis that bp.reduction is “higher” in the group receiving Dose = 10 compared to the control (Dose =0). Can you test this hypothesis assuming heteroscedasiticy"
      ],
      "metadata": {
        "id": "31LYaOxOP6DT"
      }
    },
    {
      "cell_type": "code",
      "source": [
        "\n",
        "#Null hypothesis: there no differenece between blood pressure reduction taking dose 10 or dose 0 both are same\n",
        "# Alternative hypothesis: bp.reduction is “higher” in the group receiving Dose = 10 compared to the control (Dose =0)\n",
        "\n",
        "results <- t.test(BloodPressure$bp.reduction[BloodPressure$dose == \"dose_0\"], BloodPressure$bp.reduction[BloodPressure$dose == \"dose_10\"], var.equal = F)\n",
        "results\n",
        "mean_diff <- results$estimate\n",
        "# Print the mean difference\n",
        "print(mean_diff)\n",
        "\n",
        "#\tAssessing the previous test assumption\n",
        "shapiro.test(BloodPressure$bp.reduction[BloodPressure$dose == \"dose_10\"])\n",
        "shapiro.test( BloodPressure$bp.reduction[BloodPressure$dose == \"dose_0\"])\n",
        "\n",
        "leveneTest(BloodPressure$bp.reduction[BloodPressure$dose == \"dose_0\" ], BloodPressure$bp.reduction[BloodPressure$dose == \"dose_10\"])\n",
        "var.test(BloodPressure$bp.reduction[BloodPressure$dose == \"dose_0\"], BloodPressure$bp.reduction[BloodPressure$dose == \"dose_10\"])\n",
        "bartlett.test(list(BloodPressure$bp.reduction[BloodPressure$dose == \"dose_0\"], BloodPressure$bp.reduction[BloodPressure$dose == \"dose_10\"]))\n",
        "#\tOur data is normal and homoscedastic, therefore, our assumption is wrong we should use (Two Sample T Test)"
      ],
      "metadata": {
        "colab": {
          "base_uri": "https://localhost:8080/",
          "height": 245
        },
        "id": "0Z3uafEBP6kK",
        "outputId": "beaf94ec-f6ea-4fd8-9ce7-d0d4ebcc02df"
      },
      "execution_count": 98,
      "outputs": [
        {
          "output_type": "error",
          "ename": "ERROR",
          "evalue": "ignored",
          "traceback": [
            "Error in t.test.default(BloodPressure$bp.reduction[BloodPressure$dose == : not enough 'x' observations\nTraceback:\n",
            "1. t.test(BloodPressure$bp.reduction[BloodPressure$dose == \"dose_0\"], \n .     BloodPressure$bp.reduction[BloodPressure$dose == \"dose_10\"], \n .     var.equal = F)",
            "2. t.test.default(BloodPressure$bp.reduction[BloodPressure$dose == \n .     \"dose_0\"], BloodPressure$bp.reduction[BloodPressure$dose == \n .     \"dose_10\"], var.equal = F)",
            "3. stop(\"not enough 'x' observations\")"
          ]
        }
      ]
    },
    {
      "cell_type": "markdown",
      "source": [
        "###6.3\t We hypothesis that bp.reduction is different between the different doses (ignoring the gender). Can you perform comparison between the different groups, after assessing the assumptions and performing post-hoc testing."
      ],
      "metadata": {
        "id": "vkhxW7nFQGoa"
      }
    },
    {
      "cell_type": "code",
      "source": [
        "# Null Hypothesis: bp.reduction is the same between the different doses\n",
        "# Alternative Hypothesis: bp.reduction is different between the different doses\n",
        "\n",
        "shapiro_test <- by(BloodPressure$bp.reduction, BloodPressure$dose, shapiro.test)\n",
        "shapiro_test\n",
        "\n",
        "levene_test <- leveneTest(bp.reduction ~ dose, data = BloodPressure)\n",
        "levene_test\n",
        "\n",
        "anov <- aov(bp.reduction ~ dose, data = BloodPressure)\n",
        "report(anov)\n",
        "anova_summary <- summary(anov)\n",
        "SSE <- anova_summary$`Residuals`$SumSq\n",
        "SSE\n",
        "# Assuming you have an ANOVA summary stored in the 'anova_summary' object\n",
        "SSR <- anova_summary$`Model`$SumSq\n",
        "SSR\n",
        "posthoc <- TukeyHSD(anov)\n",
        "posthoc\n",
        "plot(posthoc)\n",
        "# After assessing that our data is normal and homoscedastic we perform posthoc (TuckeyHSD) as the output shows that there is a significant difference in all combinations except the dose_5 – dose_2 were its p value is greater than 0.05.\n",
        "#Therefore, we have enough evidence to reject the null"
      ],
      "metadata": {
        "colab": {
          "base_uri": "https://localhost:8080/",
          "height": 696
        },
        "id": "KxflhlaMDDx-",
        "outputId": "dac817d1-0967-4882-f49b-7aad9807cf49"
      },
      "execution_count": 99,
      "outputs": [
        {
          "output_type": "display_data",
          "data": {
            "text/plain": [
              "BloodPressure$dose: 0\n",
              "\n",
              "\tShapiro-Wilk normality test\n",
              "\n",
              "data:  dd[x, ]\n",
              "W = 0.94538, p-value = 0.6143\n",
              "\n",
              "------------------------------------------------------------ \n",
              "BloodPressure$dose: 2\n",
              "\n",
              "\tShapiro-Wilk normality test\n",
              "\n",
              "data:  dd[x, ]\n",
              "W = 0.95757, p-value = 0.7578\n",
              "\n",
              "------------------------------------------------------------ \n",
              "BloodPressure$dose: 5\n",
              "\n",
              "\tShapiro-Wilk normality test\n",
              "\n",
              "data:  dd[x, ]\n",
              "W = 0.95795, p-value = 0.7623\n",
              "\n",
              "------------------------------------------------------------ \n",
              "BloodPressure$dose: 10\n",
              "\n",
              "\tShapiro-Wilk normality test\n",
              "\n",
              "data:  dd[x, ]\n",
              "W = 0.95916, p-value = 0.7763\n"
            ]
          },
          "metadata": {}
        },
        {
          "output_type": "error",
          "ename": "ERROR",
          "evalue": "ignored",
          "traceback": [
            "Error in leveneTest.formula(bp.reduction ~ dose, data = BloodPressure): Levene's test is not appropriate with quantitative explanatory variables.\nTraceback:\n",
            "1. leveneTest(bp.reduction ~ dose, data = BloodPressure)",
            "2. leveneTest.formula(bp.reduction ~ dose, data = BloodPressure)",
            "3. stop(\"Levene's test is not appropriate with quantitative explanatory variables.\")"
          ]
        }
      ]
    },
    {
      "cell_type": "markdown",
      "source": [
        "##7.\tLinear model"
      ],
      "metadata": {
        "id": "ratWgEFjDpmt"
      }
    },
    {
      "cell_type": "code",
      "source": [
        "#reseting our data reading\n",
        "load(\"BloodPressure.RData\")\n",
        "\n",
        "#7.1\tFiting a linear regression to the data and interpret the regression coefficient (for the same hypotheses mentioned above)\n",
        "res <- lm(bp.reduction ~ dose, BloodPressure)\n",
        "report(res)\n",
        "\n",
        "plot(BloodPressure$dose, BloodPressure$bp.reduction, ylab = \"Blood Pressure Reduction\", xlab = \"Dose\", col = \"Blue\")\n",
        "abline(res)\n"
      ],
      "metadata": {
        "id": "nYMdZrtxDgrG"
      },
      "execution_count": null,
      "outputs": []
    },
    {
      "cell_type": "markdown",
      "source": [
        "###7.2\tCalculating and interpret a 95% confidence interval of the regression slope"
      ],
      "metadata": {
        "id": "_6mRE4vEIQCc"
      }
    },
    {
      "cell_type": "code",
      "source": [
        "# Extracting the coefficient summary\n",
        "summary_coef <- summary(res)$coefficients\n",
        "summary_coef\n",
        "# Extracting the estimated slope and its standard error\n",
        "slope <- summary_coef[\"dose\", \"Estimate\"]\n",
        "SEb <- summary_coef[\"dose\", \"Std. Error\"]\n",
        "# Calculating the t-value for the desired confidence level\n",
        "t_value <- qt(0.975, df = res$df.residual)\n",
        "t_value\n",
        "\n",
        "# Calculating the confidence interval for the slope\n",
        "lower_bound <- slope - t_value * SEb\n",
        "upper_bound <- slope + t_value * SEb\n",
        "\n",
        "# Printing the confidence interval\n",
        "cat(\"95% Confidence Interval for the Regression Slope:\", \"\\n\")\n",
        "cat(\"Lower Bound:\", lower_bound, \"\\n\")\n",
        "cat(\"Upper Bound:\", upper_bound, \"\\n\")\n",
        "#we have another way to calculate this easy than writing the equations\n",
        "confint(res, 'dose', level=0.95)"
      ],
      "metadata": {
        "id": "v0xJV126IPY2"
      },
      "execution_count": null,
      "outputs": []
    },
    {
      "cell_type": "markdown",
      "source": [
        "###7.3\tEstimating the average blood pressure reduction for patients that would receive 3mg/day of the medication.\n"
      ],
      "metadata": {
        "id": "KqJDGIAkIx1N"
      }
    },
    {
      "cell_type": "code",
      "source": [
        "predict(res,newdata=data.frame(dose=3), interval=\"prediction\",level=0.95)"
      ],
      "metadata": {
        "id": "sWzQhZmwI2Gi"
      },
      "execution_count": null,
      "outputs": []
    }
  ]
}