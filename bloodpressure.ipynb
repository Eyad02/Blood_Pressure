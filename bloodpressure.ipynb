{
  "cells": [
    {
      "cell_type": "markdown",
      "metadata": {
        "id": "dWvq-7EUyjIl"
      },
      "source": [
        "# Blood Pressure\n",
        "\n",
        "In a small dose-finding study of a blood pressure reducing drug, 40 high blood pressure patients (systolic blood pressure at least 150 mmHg) were randomised over 4 concentrations of the active compound (arginine) in the drug: 0, 2, 5 and 10 mg per day. The outcome is the systolic blood pressure reduction after 2 months, measured in mmHg.\n",
        "\n",
        "\n"
      ]
    },
    {
      "cell_type": "markdown",
      "source": [
        "## 0. Data reading and calling libraries"
      ],
      "metadata": {
        "id": "-HTO4czuzQvq"
      }
    },
    {
      "cell_type": "code",
      "execution_count": 24,
      "metadata": {
        "colab": {
          "base_uri": "https://localhost:8080/",
          "height": 286
        },
        "id": "PX6CQdVXyjI3",
        "outputId": "edc8379b-7031-4c7e-eadc-4d10062ce939"
      },
      "outputs": [
        {
          "output_type": "display_data",
          "data": {
            "text/html": [
              "<table class=\"dataframe\">\n",
              "<caption>A data.frame: 6 × 3</caption>\n",
              "<thead>\n",
              "\t<tr><th></th><th scope=col>dose</th><th scope=col>bp.reduction</th><th scope=col>gender</th></tr>\n",
              "\t<tr><th></th><th scope=col>&lt;dbl&gt;</th><th scope=col>&lt;dbl&gt;</th><th scope=col>&lt;int&gt;</th></tr>\n",
              "</thead>\n",
              "<tbody>\n",
              "\t<tr><th scope=row>1</th><td>0</td><td> 3</td><td>0</td></tr>\n",
              "\t<tr><th scope=row>2</th><td>0</td><td> 5</td><td>0</td></tr>\n",
              "\t<tr><th scope=row>3</th><td>0</td><td>-2</td><td>0</td></tr>\n",
              "\t<tr><th scope=row>4</th><td>0</td><td>-5</td><td>1</td></tr>\n",
              "\t<tr><th scope=row>5</th><td>0</td><td> 0</td><td>0</td></tr>\n",
              "\t<tr><th scope=row>6</th><td>0</td><td> 5</td><td>0</td></tr>\n",
              "</tbody>\n",
              "</table>\n"
            ],
            "text/markdown": "\nA data.frame: 6 × 3\n\n| <!--/--> | dose &lt;dbl&gt; | bp.reduction &lt;dbl&gt; | gender &lt;int&gt; |\n|---|---|---|---|\n| 1 | 0 |  3 | 0 |\n| 2 | 0 |  5 | 0 |\n| 3 | 0 | -2 | 0 |\n| 4 | 0 | -5 | 1 |\n| 5 | 0 |  0 | 0 |\n| 6 | 0 |  5 | 0 |\n\n",
            "text/latex": "A data.frame: 6 × 3\n\\begin{tabular}{r|lll}\n  & dose & bp.reduction & gender\\\\\n  & <dbl> & <dbl> & <int>\\\\\n\\hline\n\t1 & 0 &  3 & 0\\\\\n\t2 & 0 &  5 & 0\\\\\n\t3 & 0 & -2 & 0\\\\\n\t4 & 0 & -5 & 1\\\\\n\t5 & 0 &  0 & 0\\\\\n\t6 & 0 &  5 & 0\\\\\n\\end{tabular}\n",
            "text/plain": [
              "  dose bp.reduction gender\n",
              "1 0     3           0     \n",
              "2 0     5           0     \n",
              "3 0    -2           0     \n",
              "4 0    -5           1     \n",
              "5 0     0           0     \n",
              "6 0     5           0     "
            ]
          },
          "metadata": {}
        }
      ],
      "source": [
        "# install.packages(\"car\")\n",
        "# install.packages(\"report\")\n",
        "\n",
        "library(ggplot2)\n",
        "library(car)\n",
        "library(report)\n",
        "\n",
        "\n",
        "load(\"BloodPressure.RData\")\n",
        "head(BloodPressure)\n"
      ]
    },
    {
      "cell_type": "markdown",
      "metadata": {
        "id": "5LdIFsPpyjJI"
      },
      "source": [
        "## 1. Descriptive statistics\n",
        "\n",
        "\n"
      ]
    },
    {
      "cell_type": "markdown",
      "source": [
        "### 1.1 Summarizing your data and calculate the following: mean, median, minimum, maximum, first and third quartile (for each variable)."
      ],
      "metadata": {
        "id": "fsLKKuuXzfqT"
      }
    },
    {
      "cell_type": "code",
      "execution_count": 25,
      "metadata": {
        "colab": {
          "base_uri": "https://localhost:8080/",
          "height": 139
        },
        "id": "RZYbWpY8yjJK",
        "outputId": "96691247-d2c5-4988-dc7e-b3c306bb67c6"
      },
      "outputs": [
        {
          "output_type": "display_data",
          "data": {
            "text/plain": [
              "      dose        bp.reduction        gender    \n",
              " Min.   : 0.00   Min.   :-8.000   Min.   :0.00  \n",
              " 1st Qu.: 1.50   1st Qu.: 2.750   1st Qu.:0.00  \n",
              " Median : 3.50   Median : 6.500   Median :0.00  \n",
              " Mean   : 4.25   Mean   : 7.625   Mean   :0.45  \n",
              " 3rd Qu.: 6.25   3rd Qu.:13.000   3rd Qu.:1.00  \n",
              " Max.   :10.00   Max.   :26.000   Max.   :1.00  "
            ]
          },
          "metadata": {}
        }
      ],
      "source": [
        "summary(BloodPressure)\n",
        "\n"
      ]
    },
    {
      "cell_type": "code",
      "execution_count": 26,
      "metadata": {
        "colab": {
          "base_uri": "https://localhost:8080/",
          "height": 34
        },
        "id": "6KPcXzZSyjJO",
        "outputId": "7afa1936-f6e7-464b-b818-a0415dcf2c54"
      },
      "outputs": [
        {
          "output_type": "display_data",
          "data": {
            "text/html": [
              "7.625"
            ],
            "text/markdown": "7.625",
            "text/latex": "7.625",
            "text/plain": [
              "[1] 7.625"
            ]
          },
          "metadata": {}
        }
      ],
      "source": [
        "mean(BloodPressure$bp.reduction)\n"
      ]
    },
    {
      "cell_type": "code",
      "source": [
        "median(BloodPressure$bp.reduction)"
      ],
      "metadata": {
        "colab": {
          "base_uri": "https://localhost:8080/",
          "height": 34
        },
        "id": "lG45fJPozlWR",
        "outputId": "5272a727-370f-440c-b240-a08f35153bf6"
      },
      "execution_count": 27,
      "outputs": [
        {
          "output_type": "display_data",
          "data": {
            "text/html": [
              "6.5"
            ],
            "text/markdown": "6.5",
            "text/latex": "6.5",
            "text/plain": [
              "[1] 6.5"
            ]
          },
          "metadata": {}
        }
      ]
    },
    {
      "cell_type": "code",
      "source": [
        "min(BloodPressure$bp.reduction)"
      ],
      "metadata": {
        "colab": {
          "base_uri": "https://localhost:8080/",
          "height": 34
        },
        "id": "fboTlHfkzlRD",
        "outputId": "a5aea842-e97f-4a6b-aff5-679b72b4bd70"
      },
      "execution_count": 28,
      "outputs": [
        {
          "output_type": "display_data",
          "data": {
            "text/html": [
              "-8"
            ],
            "text/markdown": "-8",
            "text/latex": "-8",
            "text/plain": [
              "[1] -8"
            ]
          },
          "metadata": {}
        }
      ]
    },
    {
      "cell_type": "code",
      "source": [
        "max(BloodPressure$bp.reduction)"
      ],
      "metadata": {
        "colab": {
          "base_uri": "https://localhost:8080/",
          "height": 34
        },
        "id": "QLEsvVG8zlNL",
        "outputId": "a9f56023-4a5a-4690-da1f-3edd5b0b2d5a"
      },
      "execution_count": 29,
      "outputs": [
        {
          "output_type": "display_data",
          "data": {
            "text/html": [
              "26"
            ],
            "text/markdown": "26",
            "text/latex": "26",
            "text/plain": [
              "[1] 26"
            ]
          },
          "metadata": {}
        }
      ]
    },
    {
      "cell_type": "code",
      "execution_count": 30,
      "metadata": {
        "colab": {
          "base_uri": "https://localhost:8080/",
          "height": 52
        },
        "id": "X2cbv8moyjJS",
        "outputId": "c9fbfd59-842d-46bf-a45b-71c6e21a4f35"
      },
      "outputs": [
        {
          "output_type": "stream",
          "name": "stdout",
          "text": [
            "[1] \"First and Second quantile\"\n"
          ]
        },
        {
          "output_type": "display_data",
          "data": {
            "text/html": [
              "<style>\n",
              ".dl-inline {width: auto; margin:0; padding: 0}\n",
              ".dl-inline>dt, .dl-inline>dd {float: none; width: auto; display: inline-block}\n",
              ".dl-inline>dt::after {content: \":\\0020\"; padding-right: .5ex}\n",
              ".dl-inline>dt:not(:first-of-type) {padding-left: .5ex}\n",
              "</style><dl class=dl-inline><dt>25%</dt><dd>2.75</dd><dt>75%</dt><dd>13</dd></dl>\n"
            ],
            "text/markdown": "25%\n:   2.7575%\n:   13\n\n",
            "text/latex": "\\begin{description*}\n\\item[25\\textbackslash{}\\%] 2.75\n\\item[75\\textbackslash{}\\%] 13\n\\end{description*}\n",
            "text/plain": [
              "  25%   75% \n",
              " 2.75 13.00 "
            ]
          },
          "metadata": {}
        }
      ],
      "source": [
        "print(\"First and Second quantile\")\n",
        "quan <- quantile(BloodPressure$bp.reduction, c(0.25, 0.75))\n",
        "quan\n"
      ]
    },
    {
      "cell_type": "markdown",
      "metadata": {
        "id": "dt9n7mFhyjJT"
      },
      "source": [
        "### 1.2 For the categorical variable (Gender)\n",
        "\n"
      ]
    },
    {
      "cell_type": "code",
      "execution_count": 31,
      "metadata": {
        "colab": {
          "base_uri": "https://localhost:8080/",
          "height": 69
        },
        "id": "LYJ367ZhyjJU",
        "outputId": "c375206d-9858-4f56-b063-6f4a56eb8962"
      },
      "outputs": [
        {
          "output_type": "display_data",
          "data": {
            "text/plain": [
              "\n",
              "Female   Male \n",
              "    22     18 "
            ]
          },
          "metadata": {}
        }
      ],
      "source": [
        "BloodPressure$gender <- factor(BloodPressure$gender, levels = c(0, 1), labels = c(\"Female\", \"Male\"))\n",
        "table(BloodPressure$gender)\n"
      ]
    },
    {
      "cell_type": "code",
      "source": [
        "# Counting number of doses in the study using table()\n",
        "table(BloodPressure$dose)"
      ],
      "metadata": {
        "colab": {
          "base_uri": "https://localhost:8080/",
          "height": 69
        },
        "id": "MyFFqteEzw4p",
        "outputId": "2e3c9b77-2846-47d0-d282-92c1522ec37c"
      },
      "execution_count": 32,
      "outputs": [
        {
          "output_type": "display_data",
          "data": {
            "text/plain": [
              "\n",
              " 0  2  5 10 \n",
              "10 10 10 10 "
            ]
          },
          "metadata": {}
        }
      ]
    },
    {
      "cell_type": "markdown",
      "metadata": {
        "id": "TM5ZcFzoyjJX"
      },
      "source": [
        "### 1.3 Calculating the correlation of bp.reduction and dose\n",
        "\n"
      ]
    },
    {
      "cell_type": "code",
      "execution_count": 33,
      "metadata": {
        "colab": {
          "base_uri": "https://localhost:8080/",
          "height": 34
        },
        "id": "5RKtm0H1yjJZ",
        "outputId": "273fb7b3-afa5-4c28-93f3-7fd2f2f2feb3"
      },
      "outputs": [
        {
          "output_type": "display_data",
          "data": {
            "text/html": [
              "0.859494412933448"
            ],
            "text/markdown": "0.859494412933448",
            "text/latex": "0.859494412933448",
            "text/plain": [
              "[1] 0.8594944"
            ]
          },
          "metadata": {}
        }
      ],
      "source": [
        "cor(BloodPressure$bp.reduction, BloodPressure$dose)\n",
        "\n"
      ]
    },
    {
      "cell_type": "markdown",
      "metadata": {
        "id": "_yASKtGByjJc"
      },
      "source": [
        "## 2. Graphics\n",
        "\n",
        "\n"
      ]
    },
    {
      "cell_type": "markdown",
      "source": [
        "### 2.1 Generating a bar chart of a categorical variable for the gender."
      ],
      "metadata": {
        "id": "Ed7_nw7tz1yG"
      }
    },
    {
      "cell_type": "code",
      "execution_count": 34,
      "metadata": {
        "colab": {
          "base_uri": "https://localhost:8080/",
          "height": 437
        },
        "id": "oxRd5ThTyjJd",
        "outputId": "414cb1c7-a33f-47e3-a797-a469fa447663"
      },
      "outputs": [
        {
          "output_type": "display_data",
          "data": {
            "text/plain": [
              "Plot with title “Gender Distribution”"
            ],
            "image/png": "[encoded data removed]"
          },
          "metadata": {
            "image/png": {
              "width": 420,
              "height": 420
            }
          }
        }
      ],
      "source": [
        "barplot(table(BloodPressure$gender), main = \"Gender Distribution\", xlab = \"Gender\", ylab = \"Frequency\",col=c(\"pink\",\"blue\"))\n",
        "\n"
      ]
    },
    {
      "cell_type": "markdown",
      "metadata": {
        "id": "UWIkJDdYyjJf"
      },
      "source": [
        "### 2.2 Generating a bar chart graph with mean bp.reduction in males and females\n",
        "\n"
      ]
    },
    {
      "cell_type": "code",
      "execution_count": 35,
      "metadata": {
        "colab": {
          "base_uri": "https://localhost:8080/",
          "height": 437
        },
        "id": "LrUkEtpoyjJg",
        "outputId": "38848399-f06f-4541-ec96-e4813b23e5af"
      },
      "outputs": [
        {
          "output_type": "display_data",
          "data": {
            "text/plain": [
              "Plot with title “bp.reduction in males and females ”"
            ],
            "image/png": "[encoded data removed]"
          },
          "metadata": {
            "image/png": {
              "width": 420,
              "height": 420
            }
          }
        }
      ],
      "source": [
        "barplot(tapply(BloodPressure$bp.reduction, BloodPressure$gender, mean), main = \"bp.reduction in males and females \", xlab = \"Mean age\", names = c(\"Male\", \"Female\"), ylab = \"Gender\",col=c(\"blue\",\"pink\"),ylim=c(0,10))\n",
        "\n"
      ]
    },
    {
      "cell_type": "markdown",
      "metadata": {
        "id": "7ME-on9tyjJi"
      },
      "source": [
        "### 2.3 Making a histogram of a continuous variable \"Dose\", \"bp.reduction\".\n",
        "\n"
      ]
    },
    {
      "cell_type": "code",
      "execution_count": 36,
      "metadata": {
        "colab": {
          "base_uri": "https://localhost:8080/",
          "height": 437
        },
        "id": "sKiFk2HWyjJk",
        "outputId": "36d34d54-d50a-485b-c74a-6c268d176cbc"
      },
      "outputs": [
        {
          "output_type": "display_data",
          "data": {
            "text/plain": [
              "Plot with title “Dose Hist”"
            ],
            "image/png": "[encoded data removed]"
          },
          "metadata": {
            "image/png": {
              "width": 420,
              "height": 420
            }
          }
        }
      ],
      "source": [
        "hist(BloodPressure$dose, main = \"Dose Hist\", xlab = \"Dose\")\n"
      ]
    },
    {
      "cell_type": "code",
      "source": [
        "hist(BloodPressure$bp.reduction, main = \"Blood Pressure Reduction Hist\", xlab = \"BP reduction\")"
      ],
      "metadata": {
        "colab": {
          "base_uri": "https://localhost:8080/",
          "height": 437
        },
        "id": "DD3BOoN-z6_J",
        "outputId": "c343a018-a067-474a-9720-40368726578d"
      },
      "execution_count": 37,
      "outputs": [
        {
          "output_type": "display_data",
          "data": {
            "text/plain": [
              "Plot with title “Blood Pressure Reduction Hist”"
            ],
            "image/png": "[encoded data removed]"
          },
          "metadata": {
            "image/png": {
              "width": 420,
              "height": 420
            }
          }
        }
      ]
    },
    {
      "cell_type": "markdown",
      "metadata": {
        "id": "Q60KyLHfyjJm"
      },
      "source": [
        "### 2.4 Making a scatterplot of 2 continuous variables Dose and bp.reduction, and add the regression lines for each gender\n",
        "\n"
      ]
    },
    {
      "cell_type": "code",
      "execution_count": 38,
      "metadata": {
        "colab": {
          "base_uri": "https://localhost:8080/",
          "height": 437
        },
        "id": "oCIjwFlVyjJn",
        "outputId": "68931e03-3928-4b50-bada-ba9b7385ea84"
      },
      "outputs": [
        {
          "output_type": "display_data",
          "data": {
            "text/plain": [
              "plot without title"
            ],
            "image/png": "[encoded data removed]"
          },
          "metadata": {
            "image/png": {
              "width": 420,
              "height": 420
            }
          }
        }
      ],
      "source": [
        "plot(bp.reduction[gender == \"Male\"]~ dose[gender == \"Male\"], data = BloodPressure, col= \"blue\", xlab = \"Dose\", ylab = \"Blood Pressure Reduction\")\n",
        "points(bp.reduction[gender == \"Female\"]~ dose[gender == \"Female\"], data = BloodPressure, col = \"red\")\n",
        "abline(lm(bp.reduction[gender == \"Male\"]~ dose[gender == \"Male\"], data = BloodPressure), col= \"blue\")\n",
        "abline(lm(bp.reduction[gender == \"Female\"]~ dose[gender == \"Female\"], data = BloodPressure), col= \"red\")\n",
        "\n",
        "legend(\"topleft\", legend = c(\"Male\", \"Female\"), fill = c(\"blue\", \"red\"), cex = 1)\n"
      ]
    },
    {
      "cell_type": "markdown",
      "metadata": {
        "id": "tTdiwklsyjJo"
      },
      "source": [
        "### 2.5 Making a boxplot of bloodpressure reduction and a separate boxplots per Doses (as.factors).\n",
        "\n"
      ]
    },
    {
      "cell_type": "code",
      "execution_count": 39,
      "metadata": {
        "colab": {
          "base_uri": "https://localhost:8080/",
          "height": 437
        },
        "id": "vib_VEfZyjJp",
        "outputId": "98c1d8eb-2843-4bb3-e443-d32482e73b45"
      },
      "outputs": [
        {
          "output_type": "display_data",
          "data": {
            "text/plain": [
              "Plot with title “Box plot per Doses”"
            ],
            "image/png": "[encoded data removed]"
          },
          "metadata": {
            "image/png": {
              "width": 420,
              "height": 420
            }
          }
        }
      ],
      "source": [
        "boxplot(BloodPressure$bp.reduction~as.factor(BloodPressure$dose), xlab = \"Doses\", ylab = \"BloodPressure reduction\", main = \"Box plot per Doses\")\n",
        "\n"
      ]
    },
    {
      "cell_type": "markdown",
      "metadata": {
        "id": "e6gfli9hyjJq"
      },
      "source": [
        "## 3. Outlier detection\n",
        "\n",
        "\n"
      ]
    },
    {
      "cell_type": "markdown",
      "source": [
        "### 3.1 Exploring the data for any existing outliers, identify them (do NOT remove them if found)."
      ],
      "metadata": {
        "id": "rbNwIVaiz_lC"
      }
    },
    {
      "cell_type": "code",
      "execution_count": 40,
      "metadata": {
        "colab": {
          "base_uri": "https://localhost:8080/",
          "height": 437
        },
        "id": "fM03JGgMyjJr",
        "outputId": "f7c3008f-74e7-4fce-dfa8-574819dfadd6"
      },
      "outputs": [
        {
          "output_type": "display_data",
          "data": {
            "text/plain": [
              "Plot with title “box plot for gender”"
            ],
            "image/png": "[encoded data removed]"
          },
          "metadata": {
            "image/png": {
              "width": 420,
              "height": 420
            }
          }
        }
      ],
      "source": [
        "boxplot(BloodPressure$gender, main = \"box plot for gender\")\n"
      ]
    },
    {
      "cell_type": "code",
      "source": [
        "boxplot(BloodPressure$bp.reduction, main = \"box plot for bp.reduction\")"
      ],
      "metadata": {
        "colab": {
          "base_uri": "https://localhost:8080/",
          "height": 437
        },
        "id": "ktUueKWh0EWO",
        "outputId": "ab02e5f4-5f8a-4e5f-af4c-223881830129"
      },
      "execution_count": 41,
      "outputs": [
        {
          "output_type": "display_data",
          "data": {
            "text/plain": [
              "Plot with title “box plot for bp.reduction”"
            ],
            "image/png": "[encoded data removed]"
          },
          "metadata": {
            "image/png": {
              "width": 420,
              "height": 420
            }
          }
        }
      ]
    },
    {
      "cell_type": "code",
      "source": [
        "boxplot(BloodPressure$dose, main = \"box plot for dose\")"
      ],
      "metadata": {
        "colab": {
          "base_uri": "https://localhost:8080/",
          "height": 437
        },
        "id": "Rn8SyGQT0EKL",
        "outputId": "22d57c75-14e8-4f2b-877c-236cf16f6ecf"
      },
      "execution_count": 42,
      "outputs": [
        {
          "output_type": "display_data",
          "data": {
            "text/plain": [
              "Plot with title “box plot for dose”"
            ],
            "image/png": "[encoded data removed]"
          },
          "metadata": {
            "image/png": {
              "width": 420,
              "height": 420
            }
          }
        }
      ]
    },
    {
      "cell_type": "markdown",
      "metadata": {
        "id": "1QPSlKIYyjJr"
      },
      "source": [
        "### 3.2 What do you think?\n",
        "\n",
        "There are no outliers, Which means that, within our dataset, there are no extreme or unusual values that stand out from the rest of the data. In other words, all the data points are relatively consistent and do not exhibit any remarkable deviations.\n",
        "\n",
        "\n",
        "\n",
        "\n"
      ]
    },
    {
      "cell_type": "markdown",
      "source": [
        "## 4. Testing for normality/ homoscedasticity"
      ],
      "metadata": {
        "id": "MN8LyMWN0K5h"
      }
    },
    {
      "cell_type": "markdown",
      "source": [
        "### 4.1 Checking the normality using two methods"
      ],
      "metadata": {
        "id": "Qul9JS250Mgs"
      }
    },
    {
      "cell_type": "code",
      "execution_count": 43,
      "metadata": {
        "colab": {
          "base_uri": "https://localhost:8080/",
          "height": 437
        },
        "id": "SmTyA1woyjJs",
        "outputId": "834c1e17-4cac-4461-8bf7-e1b80479eac7"
      },
      "outputs": [
        {
          "output_type": "display_data",
          "data": {
            "text/plain": [
              "Plot with title “Normal Q-Q Plot”"
            ],
            "image/png": "[encoded data removed]"
          },
          "metadata": {
            "image/png": {
              "width": 420,
              "height": 420
            }
          }
        }
      ],
      "source": [
        "qqnorm(BloodPressure$bp.reduction)\n",
        "qqline(BloodPressure$bp.reduction)\n"
      ]
    },
    {
      "cell_type": "code",
      "source": [
        "shapiro.test(BloodPressure$bp.reduction) #0.806\n",
        "\n",
        "# there is no significant difference so we cannot reject the null hypothesis (normality)"
      ],
      "metadata": {
        "colab": {
          "base_uri": "https://localhost:8080/",
          "height": 104
        },
        "id": "upiWMrX00TL4",
        "outputId": "9686527c-b2ba-4812-ebd0-a5d672b2068e"
      },
      "execution_count": 44,
      "outputs": [
        {
          "output_type": "display_data",
          "data": {
            "text/plain": [
              "\n",
              "\tShapiro-Wilk normality test\n",
              "\n",
              "data:  BloodPressure$bp.reduction\n",
              "W = 0.98321, p-value = 0.806\n"
            ]
          },
          "metadata": {}
        }
      ]
    },
    {
      "cell_type": "markdown",
      "metadata": {
        "id": "nfDkvvuzyjJt"
      },
      "source": [
        "### 4.2 Checking the homoscedasticity using two methods.\n",
        "\n"
      ]
    },
    {
      "cell_type": "code",
      "execution_count": 45,
      "metadata": {
        "colab": {
          "base_uri": "https://localhost:8080/",
          "height": 196
        },
        "id": "-F11IAamyjJu",
        "outputId": "e70c604d-a758-48c4-c9b3-98cbdf0f155d"
      },
      "outputs": [
        {
          "output_type": "stream",
          "name": "stderr",
          "text": [
            "Warning message in leveneTest.default(BloodPressure$bp.reduction, BloodPressure$dose):\n",
            "“BloodPressure$dose coerced to factor.”\n"
          ]
        },
        {
          "output_type": "display_data",
          "data": {
            "text/html": [
              "<table class=\"dataframe\">\n",
              "<caption>A anova: 2 × 3</caption>\n",
              "<thead>\n",
              "\t<tr><th></th><th scope=col>Df</th><th scope=col>F value</th><th scope=col>Pr(&gt;F)</th></tr>\n",
              "\t<tr><th></th><th scope=col>&lt;int&gt;</th><th scope=col>&lt;dbl&gt;</th><th scope=col>&lt;dbl&gt;</th></tr>\n",
              "</thead>\n",
              "<tbody>\n",
              "\t<tr><th scope=row>group</th><td> 3</td><td>0.9517159</td><td>0.425965</td></tr>\n",
              "\t<tr><th scope=row> </th><td>36</td><td>       NA</td><td>      NA</td></tr>\n",
              "</tbody>\n",
              "</table>\n"
            ],
            "text/markdown": "\nA anova: 2 × 3\n\n| <!--/--> | Df &lt;int&gt; | F value &lt;dbl&gt; | Pr(&gt;F) &lt;dbl&gt; |\n|---|---|---|---|\n| group |  3 | 0.9517159 | 0.425965 |\n| <!----> | 36 |        NA |       NA |\n\n",
            "text/latex": "A anova: 2 × 3\n\\begin{tabular}{r|lll}\n  & Df & F value & Pr(>F)\\\\\n  & <int> & <dbl> & <dbl>\\\\\n\\hline\n\tgroup &  3 & 0.9517159 & 0.425965\\\\\n\t  & 36 &        NA &       NA\\\\\n\\end{tabular}\n",
            "text/plain": [
              "      Df F value   Pr(>F)  \n",
              "group  3 0.9517159 0.425965\n",
              "      36        NA       NA"
            ]
          },
          "metadata": {}
        }
      ],
      "source": [
        "leveneTest(BloodPressure$bp.reduction, BloodPressure$dose)\n"
      ]
    },
    {
      "cell_type": "code",
      "source": [
        "bartlett.test(BloodPressure$bp.reduction, BloodPressure$dose)\n",
        "\n",
        "# there is no significant difference so we cannot reject the null hypothesis (homoscedasticity)"
      ],
      "metadata": {
        "colab": {
          "base_uri": "https://localhost:8080/",
          "height": 104
        },
        "id": "oiYqa9Bb0cgp",
        "outputId": "fcfd4d21-8516-4756-f6f0-2b906e24ede2"
      },
      "execution_count": 46,
      "outputs": [
        {
          "output_type": "display_data",
          "data": {
            "text/plain": [
              "\n",
              "\tBartlett test of homogeneity of variances\n",
              "\n",
              "data:  BloodPressure$bp.reduction and BloodPressure$dose\n",
              "Bartlett's K-squared = 3.9235, df = 3, p-value = 0.2698\n"
            ]
          },
          "metadata": {}
        }
      ]
    },
    {
      "cell_type": "markdown",
      "metadata": {
        "id": "LBzST979yjJv"
      },
      "source": [
        "### 4.3 What do you think?\n",
        "\n",
        "As in the qq plot or the shapiro test the data is normally distributed p value = 0.806. Therefore, there is no significant difference, we dont have enough evidence to reject the null hypothosis which is the normallity and according to bartlett test we cannot reject the null hypothesis(homoscedasticity)\n",
        "\n",
        "\n"
      ]
    },
    {
      "cell_type": "markdown",
      "source": [
        "## 5. Statistical Inference\n",
        "\n"
      ],
      "metadata": {
        "id": "WjOvNMfo0flF"
      }
    },
    {
      "cell_type": "markdown",
      "source": [
        "### 5.1 Calculating the 90%, 95%, 99% confidence interval for the means of bp.reduction per each Dose."
      ],
      "metadata": {
        "id": "t-LWUleY0hRl"
      }
    },
    {
      "cell_type": "code",
      "execution_count": 47,
      "metadata": {
        "colab": {
          "base_uri": "https://localhost:8080/",
          "height": 192
        },
        "id": "dsXK0xIAyjJw",
        "outputId": "c04b6de9-d229-4f5b-e9fa-d9910859e593"
      },
      "outputs": [
        {
          "output_type": "display_data",
          "data": {
            "text/html": [
              "<table class=\"dataframe\">\n",
              "<caption>A matrix: 4 × 2 of type dbl</caption>\n",
              "<thead>\n",
              "\t<tr><th></th><th scope=col>5 %</th><th scope=col>95 %</th></tr>\n",
              "</thead>\n",
              "<tbody>\n",
              "\t<tr><th scope=row>(Intercept)</th><td>-3.116148</td><td> 1.316148</td></tr>\n",
              "\t<tr><th scope=row>dosedose_2</th><td> 2.265894</td><td> 8.534106</td></tr>\n",
              "\t<tr><th scope=row>dosedose_5</th><td> 7.165894</td><td>13.434106</td></tr>\n",
              "\t<tr><th scope=row>dosedose_10</th><td>15.265894</td><td>21.534106</td></tr>\n",
              "</tbody>\n",
              "</table>\n"
            ],
            "text/markdown": "\nA matrix: 4 × 2 of type dbl\n\n| <!--/--> | 5 % | 95 % |\n|---|---|---|\n| (Intercept) | -3.116148 |  1.316148 |\n| dosedose_2 |  2.265894 |  8.534106 |\n| dosedose_5 |  7.165894 | 13.434106 |\n| dosedose_10 | 15.265894 | 21.534106 |\n\n",
            "text/latex": "A matrix: 4 × 2 of type dbl\n\\begin{tabular}{r|ll}\n  & 5 \\% & 95 \\%\\\\\n\\hline\n\t(Intercept) & -3.116148 &  1.316148\\\\\n\tdosedose\\_2 &  2.265894 &  8.534106\\\\\n\tdosedose\\_5 &  7.165894 & 13.434106\\\\\n\tdosedose\\_10 & 15.265894 & 21.534106\\\\\n\\end{tabular}\n",
            "text/plain": [
              "            5 %       95 %     \n",
              "(Intercept) -3.116148  1.316148\n",
              "dosedose_2   2.265894  8.534106\n",
              "dosedose_5   7.165894 13.434106\n",
              "dosedose_10 15.265894 21.534106"
            ]
          },
          "metadata": {}
        }
      ],
      "source": [
        "BloodPressure$dose <- factor(BloodPressure$dose, labels = c(\"dose_0\", \"dose_2\",\"dose_5\",\"dose_10\"))\n",
        "\n",
        "#90%\n",
        "confint(lm(bp.reduction~dose, data = BloodPressure), level = 0.90)\n"
      ]
    },
    {
      "cell_type": "code",
      "source": [
        "#95%\n",
        "confint(lm(bp.reduction~dose, data = BloodPressure))"
      ],
      "metadata": {
        "colab": {
          "base_uri": "https://localhost:8080/",
          "height": 192
        },
        "id": "s9-Lsh1X27FG",
        "outputId": "ab630921-a5f7-464a-a4e9-5eb59b0e6e8a"
      },
      "execution_count": 48,
      "outputs": [
        {
          "output_type": "display_data",
          "data": {
            "text/html": [
              "<table class=\"dataframe\">\n",
              "<caption>A matrix: 4 × 2 of type dbl</caption>\n",
              "<thead>\n",
              "\t<tr><th></th><th scope=col>2.5 %</th><th scope=col>97.5 %</th></tr>\n",
              "</thead>\n",
              "<tbody>\n",
              "\t<tr><th scope=row>(Intercept)</th><td>-3.562182</td><td> 1.762182</td></tr>\n",
              "\t<tr><th scope=row>dosedose_2</th><td> 1.635106</td><td> 9.164894</td></tr>\n",
              "\t<tr><th scope=row>dosedose_5</th><td> 6.535106</td><td>14.064894</td></tr>\n",
              "\t<tr><th scope=row>dosedose_10</th><td>14.635106</td><td>22.164894</td></tr>\n",
              "</tbody>\n",
              "</table>\n"
            ],
            "text/markdown": "\nA matrix: 4 × 2 of type dbl\n\n| <!--/--> | 2.5 % | 97.5 % |\n|---|---|---|\n| (Intercept) | -3.562182 |  1.762182 |\n| dosedose_2 |  1.635106 |  9.164894 |\n| dosedose_5 |  6.535106 | 14.064894 |\n| dosedose_10 | 14.635106 | 22.164894 |\n\n",
            "text/latex": "A matrix: 4 × 2 of type dbl\n\\begin{tabular}{r|ll}\n  & 2.5 \\% & 97.5 \\%\\\\\n\\hline\n\t(Intercept) & -3.562182 &  1.762182\\\\\n\tdosedose\\_2 &  1.635106 &  9.164894\\\\\n\tdosedose\\_5 &  6.535106 & 14.064894\\\\\n\tdosedose\\_10 & 14.635106 & 22.164894\\\\\n\\end{tabular}\n",
            "text/plain": [
              "            2.5 %     97.5 %   \n",
              "(Intercept) -3.562182  1.762182\n",
              "dosedose_2   1.635106  9.164894\n",
              "dosedose_5   6.535106 14.064894\n",
              "dosedose_10 14.635106 22.164894"
            ]
          },
          "metadata": {}
        }
      ]
    },
    {
      "cell_type": "code",
      "source": [
        "#99%\n",
        "confint(lm(bp.reduction~dose, data = BloodPressure), level = 0.99)"
      ],
      "metadata": {
        "colab": {
          "base_uri": "https://localhost:8080/",
          "height": 192
        },
        "id": "K4qi62uF241H",
        "outputId": "39f6b0b6-af1b-40c8-8cd2-1f2f36476517"
      },
      "execution_count": 49,
      "outputs": [
        {
          "output_type": "display_data",
          "data": {
            "text/html": [
              "<table class=\"dataframe\">\n",
              "<caption>A matrix: 4 × 2 of type dbl</caption>\n",
              "<thead>\n",
              "\t<tr><th></th><th scope=col>0.5 %</th><th scope=col>99.5 %</th></tr>\n",
              "</thead>\n",
              "<tbody>\n",
              "\t<tr><th scope=row>(Intercept)</th><td>-4.4697372</td><td> 2.669737</td></tr>\n",
              "\t<tr><th scope=row>dosedose_2</th><td> 0.3516292</td><td>10.448371</td></tr>\n",
              "\t<tr><th scope=row>dosedose_5</th><td> 5.2516292</td><td>15.348371</td></tr>\n",
              "\t<tr><th scope=row>dosedose_10</th><td>13.3516292</td><td>23.448371</td></tr>\n",
              "</tbody>\n",
              "</table>\n"
            ],
            "text/markdown": "\nA matrix: 4 × 2 of type dbl\n\n| <!--/--> | 0.5 % | 99.5 % |\n|---|---|---|\n| (Intercept) | -4.4697372 |  2.669737 |\n| dosedose_2 |  0.3516292 | 10.448371 |\n| dosedose_5 |  5.2516292 | 15.348371 |\n| dosedose_10 | 13.3516292 | 23.448371 |\n\n",
            "text/latex": "A matrix: 4 × 2 of type dbl\n\\begin{tabular}{r|ll}\n  & 0.5 \\% & 99.5 \\%\\\\\n\\hline\n\t(Intercept) & -4.4697372 &  2.669737\\\\\n\tdosedose\\_2 &  0.3516292 & 10.448371\\\\\n\tdosedose\\_5 &  5.2516292 & 15.348371\\\\\n\tdosedose\\_10 & 13.3516292 & 23.448371\\\\\n\\end{tabular}\n",
            "text/plain": [
              "            0.5 %      99.5 %   \n",
              "(Intercept) -4.4697372  2.669737\n",
              "dosedose_2   0.3516292 10.448371\n",
              "dosedose_5   5.2516292 15.348371\n",
              "dosedose_10 13.3516292 23.448371"
            ]
          },
          "metadata": {}
        }
      ]
    },
    {
      "cell_type": "markdown",
      "metadata": {
        "id": "M3nU2OKbyjJx"
      },
      "source": [
        "### 5.2 How would you describe those inferences and what do you observe in terms of the interval width when request higher confidence (i.e. 99% C.I.)?\n",
        "\n",
        "Ans: A confidence interval is an estimated range of values that, with a given level of certainty, contain the real population parameter. As we request higher confidence intervals the intervals shrink and get more accurate.\n",
        "\n",
        "\n"
      ]
    },
    {
      "cell_type": "markdown",
      "source": [
        "## 6. Hypothesis testing\n",
        "\n"
      ],
      "metadata": {
        "id": "SA-5FC8F0mRt"
      }
    },
    {
      "cell_type": "markdown",
      "source": [
        "### 6.1 We hypothesis that bp.reduction is different between male vs female (in the group that received placebo, i.e. Dose = 0).Assuming normality and homoscedasticity, can you test this hypothesis using statistical hypothesis framework"
      ],
      "metadata": {
        "id": "-ZB7nY9u0o0N"
      }
    },
    {
      "cell_type": "code",
      "execution_count": 50,
      "metadata": {
        "colab": {
          "base_uri": "https://localhost:8080/",
          "height": 208
        },
        "id": "C3KGBe06yjJz",
        "outputId": "51466e2b-1960-42d3-bd29-54713e16971d"
      },
      "outputs": [
        {
          "output_type": "display_data",
          "data": {
            "text/plain": [
              "\n",
              "\tTwo Sample t-test\n",
              "\n",
              "data:  BloodPressure$bp.reduction[BloodPressure$dose == \"dose_0\"] by BloodPressure$gender[BloodPressure$dose == \"dose_0\"]\n",
              "t = 3.011, df = 8, p-value = 0.01679\n",
              "alternative hypothesis: true difference in means between group Female and group Male is not equal to 0\n",
              "95 percent confidence interval:\n",
              "  1.451647 10.948353\n",
              "sample estimates:\n",
              "mean in group Female   mean in group Male \n",
              "                 2.2                 -4.0 \n"
            ]
          },
          "metadata": {}
        }
      ],
      "source": [
        "# Null hypothesis: bp.reduction is no different between male vs female (in the group that received placebo, i.e. Dose = 0)\n",
        "# Alternative hypothesis: bp.reduction is different between male vs female (in the group that received placebo, i.e. Dose = 0)\n",
        "\n",
        "t.test(BloodPressure$bp.reduction[BloodPressure$dose == \"dose_0\"] ~ BloodPressure$gender[BloodPressure$dose == \"dose_0\"], var.equal = T)\n"
      ]
    },
    {
      "cell_type": "code",
      "source": [
        "#\tAssessing whether the previous assumptions have been meet for the test.\n",
        "\n",
        "shapiro.test(BloodPressure$bp.reduction[BloodPressure$dose == \"dose_0\" & BloodPressure$gender==\"Female\"])\n"
      ],
      "metadata": {
        "colab": {
          "base_uri": "https://localhost:8080/",
          "height": 104
        },
        "id": "tr0WgWhr2tVa",
        "outputId": "1e114620-8e23-417e-fb47-eca3f6621335"
      },
      "execution_count": 51,
      "outputs": [
        {
          "output_type": "display_data",
          "data": {
            "text/plain": [
              "\n",
              "\tShapiro-Wilk normality test\n",
              "\n",
              "data:  BloodPressure$bp.reduction[BloodPressure$dose == \"dose_0\" & BloodPressure$gender == \"Female\"]\n",
              "W = 0.88482, p-value = 0.3317\n"
            ]
          },
          "metadata": {}
        }
      ]
    },
    {
      "cell_type": "code",
      "source": [
        "shapiro.test(BloodPressure$bp.reduction[BloodPressure$dose == \"dose_0\" & BloodPressure$gender==\"Male\"])\n"
      ],
      "metadata": {
        "colab": {
          "base_uri": "https://localhost:8080/",
          "height": 104
        },
        "id": "kU4FmvlR2iv-",
        "outputId": "297d3e2f-779a-45f2-9952-8f39548e1df5"
      },
      "execution_count": 52,
      "outputs": [
        {
          "output_type": "display_data",
          "data": {
            "text/plain": [
              "\n",
              "\tShapiro-Wilk normality test\n",
              "\n",
              "data:  BloodPressure$bp.reduction[BloodPressure$dose == \"dose_0\" & BloodPressure$gender == \"Male\"]\n",
              "W = 0.92525, p-value = 0.5644\n"
            ]
          },
          "metadata": {}
        }
      ]
    },
    {
      "cell_type": "code",
      "source": [
        "leveneTest(BloodPressure$bp.reduction[BloodPressure$dose == \"dose_0\"]~BloodPressure$gender[BloodPressure$dose==\"dose_0\"])\n"
      ],
      "metadata": {
        "colab": {
          "base_uri": "https://localhost:8080/",
          "height": 161
        },
        "id": "M2XK0nZG2iqt",
        "outputId": "d7f5b897-32d3-4320-ffb0-f1e6fa654741"
      },
      "execution_count": 53,
      "outputs": [
        {
          "output_type": "display_data",
          "data": {
            "text/html": [
              "<table class=\"dataframe\">\n",
              "<caption>A anova: 2 × 3</caption>\n",
              "<thead>\n",
              "\t<tr><th></th><th scope=col>Df</th><th scope=col>F value</th><th scope=col>Pr(&gt;F)</th></tr>\n",
              "\t<tr><th></th><th scope=col>&lt;int&gt;</th><th scope=col>&lt;dbl&gt;</th><th scope=col>&lt;dbl&gt;</th></tr>\n",
              "</thead>\n",
              "<tbody>\n",
              "\t<tr><th scope=row>group</th><td>1</td><td>0.02631579</td><td>0.875154</td></tr>\n",
              "\t<tr><th scope=row> </th><td>8</td><td>        NA</td><td>      NA</td></tr>\n",
              "</tbody>\n",
              "</table>\n"
            ],
            "text/markdown": "\nA anova: 2 × 3\n\n| <!--/--> | Df &lt;int&gt; | F value &lt;dbl&gt; | Pr(&gt;F) &lt;dbl&gt; |\n|---|---|---|---|\n| group | 1 | 0.02631579 | 0.875154 |\n| <!----> | 8 |         NA |       NA |\n\n",
            "text/latex": "A anova: 2 × 3\n\\begin{tabular}{r|lll}\n  & Df & F value & Pr(>F)\\\\\n  & <int> & <dbl> & <dbl>\\\\\n\\hline\n\tgroup & 1 & 0.02631579 & 0.875154\\\\\n\t  & 8 &         NA &       NA\\\\\n\\end{tabular}\n",
            "text/plain": [
              "      Df F value    Pr(>F)  \n",
              "group 1  0.02631579 0.875154\n",
              "      8          NA       NA"
            ]
          },
          "metadata": {}
        }
      ]
    },
    {
      "cell_type": "code",
      "source": [
        "bartlett.test(BloodPressure$bp.reduction[BloodPressure$dose == \"dose_0\"]~BloodPressure$gender[BloodPressure$dose==\"dose_0\"])\n"
      ],
      "metadata": {
        "colab": {
          "base_uri": "https://localhost:8080/",
          "height": 104
        },
        "id": "k_w22JUY2imV",
        "outputId": "ad0c234f-8ada-44d2-c446-90ba7257cadf"
      },
      "execution_count": 54,
      "outputs": [
        {
          "output_type": "display_data",
          "data": {
            "text/plain": [
              "\n",
              "\tBartlett test of homogeneity of variances\n",
              "\n",
              "data:  BloodPressure$bp.reduction[BloodPressure$dose == \"dose_0\"] by BloodPressure$gender[BloodPressure$dose == \"dose_0\"]\n",
              "Bartlett's K-squared = 0.025725, df = 1, p-value = 0.8726\n"
            ]
          },
          "metadata": {}
        }
      ]
    },
    {
      "cell_type": "code",
      "source": [
        "var.test(BloodPressure$bp.reduction[BloodPressure$dose == \"dose_0\"]~BloodPressure$gender[BloodPressure$dose==\"dose_0\"])\n"
      ],
      "metadata": {
        "colab": {
          "base_uri": "https://localhost:8080/",
          "height": 208
        },
        "id": "VteKTfsf2j-C",
        "outputId": "b05dbab6-9945-444c-eb3c-1c8a1a9445d9"
      },
      "execution_count": 55,
      "outputs": [
        {
          "output_type": "display_data",
          "data": {
            "text/plain": [
              "\n",
              "\tF test to compare two variances\n",
              "\n",
              "data:  BloodPressure$bp.reduction[BloodPressure$dose == \"dose_0\"] by BloodPressure$gender[BloodPressure$dose == \"dose_0\"]\n",
              "F = 0.84348, num df = 4, denom df = 4, p-value = 0.8729\n",
              "alternative hypothesis: true ratio of variances is not equal to 1\n",
              "95 percent confidence interval:\n",
              " 0.08782088 8.10121216\n",
              "sample estimates:\n",
              "ratio of variances \n",
              "         0.8434783 \n"
            ]
          },
          "metadata": {}
        }
      ]
    },
    {
      "cell_type": "code",
      "source": [
        "# Ans: According to the p value = 0.01679 we can reject the null hypothesis therefore, there is a significant difference between males and females in dose = 0\n",
        "# the assumption is correct"
      ],
      "metadata": {
        "id": "6hNHoz0T2j49"
      },
      "execution_count": 56,
      "outputs": []
    },
    {
      "cell_type": "markdown",
      "metadata": {
        "id": "ZB2zqCTAyjJ0"
      },
      "source": [
        "### 6.2 We hypothesis that bp.reduction is \"higher\" in the group receiving Dose = 10 compared to the control (Dose =0). Can you test this hypothesis assuming heteroscedasiticy\n",
        "\n"
      ]
    },
    {
      "cell_type": "code",
      "execution_count": 57,
      "metadata": {
        "colab": {
          "base_uri": "https://localhost:8080/",
          "height": 208
        },
        "id": "qgSqYgzwyjJ2",
        "outputId": "0272000a-a612-4eb2-ddad-d288104be321"
      },
      "outputs": [
        {
          "output_type": "display_data",
          "data": {
            "text/plain": [
              "\n",
              "\tWelch Two Sample t-test\n",
              "\n",
              "data:  BloodPressure$bp.reduction[BloodPressure$dose == \"dose_0\"] and BloodPressure$bp.reduction[BloodPressure$dose == \"dose_10\"]\n",
              "t = -8.4238, df = 17.565, p-value = 1.403e-07\n",
              "alternative hypothesis: true difference in means is not equal to 0\n",
              "95 percent confidence interval:\n",
              " -22.99718 -13.80282\n",
              "sample estimates:\n",
              "mean of x mean of y \n",
              "     -0.9      17.5 \n"
            ]
          },
          "metadata": {}
        }
      ],
      "source": [
        "#Null hypothesis: there no differenece between blood pressure reduction taking dose 10 or dose 0 both are same\n",
        "# Alternative hypothesis: bp.reduction is “higher” in the group receiving Dose = 10 compared to the control (Dose =0)\n",
        "\n",
        "results <- t.test(BloodPressure$bp.reduction[BloodPressure$dose == \"dose_0\"], BloodPressure$bp.reduction[BloodPressure$dose == \"dose_10\"], var.equal = F)\n",
        "results\n"
      ]
    },
    {
      "cell_type": "code",
      "source": [
        "mean_diff <- results$estimate\n",
        "# Print the mean difference\n",
        "print(mean_diff)"
      ],
      "metadata": {
        "colab": {
          "base_uri": "https://localhost:8080/"
        },
        "id": "WE-OgwPM2ISe",
        "outputId": "94608924-401d-4410-ebf3-a958df80faa0"
      },
      "execution_count": 58,
      "outputs": [
        {
          "output_type": "stream",
          "name": "stdout",
          "text": [
            "mean of x mean of y \n",
            "     -0.9      17.5 \n"
          ]
        }
      ]
    },
    {
      "cell_type": "code",
      "source": [
        "#\tAssessing the previous test assumption\n",
        "shapiro.test(BloodPressure$bp.reduction[BloodPressure$dose == \"dose_10\"])"
      ],
      "metadata": {
        "colab": {
          "base_uri": "https://localhost:8080/",
          "height": 104
        },
        "id": "Lo-vZXMk2WRv",
        "outputId": "9b80b372-cfc2-4a22-8c13-a7c7bb22e6e1"
      },
      "execution_count": 59,
      "outputs": [
        {
          "output_type": "display_data",
          "data": {
            "text/plain": [
              "\n",
              "\tShapiro-Wilk normality test\n",
              "\n",
              "data:  BloodPressure$bp.reduction[BloodPressure$dose == \"dose_10\"]\n",
              "W = 0.95916, p-value = 0.7763\n"
            ]
          },
          "metadata": {}
        }
      ]
    },
    {
      "cell_type": "code",
      "source": [
        "shapiro.test( BloodPressure$bp.reduction[BloodPressure$dose == \"dose_0\"])"
      ],
      "metadata": {
        "colab": {
          "base_uri": "https://localhost:8080/",
          "height": 104
        },
        "id": "ZuUmBdbV2WL3",
        "outputId": "7f1a0d34-56a1-4655-c558-755554214a72"
      },
      "execution_count": 60,
      "outputs": [
        {
          "output_type": "display_data",
          "data": {
            "text/plain": [
              "\n",
              "\tShapiro-Wilk normality test\n",
              "\n",
              "data:  BloodPressure$bp.reduction[BloodPressure$dose == \"dose_0\"]\n",
              "W = 0.94538, p-value = 0.6143\n"
            ]
          },
          "metadata": {}
        }
      ]
    },
    {
      "cell_type": "code",
      "source": [
        "leveneTest(BloodPressure$bp.reduction[BloodPressure$dose == \"dose_0\" ], BloodPressure$bp.reduction[BloodPressure$dose == \"dose_10\"])\n"
      ],
      "metadata": {
        "colab": {
          "base_uri": "https://localhost:8080/",
          "height": 196
        },
        "id": "rki3fk7V2INR",
        "outputId": "0ed66dae-e2ea-4d61-b0d2-618c0c9971d0"
      },
      "execution_count": 61,
      "outputs": [
        {
          "output_type": "stream",
          "name": "stderr",
          "text": [
            "Warning message in leveneTest.default(BloodPressure$bp.reduction[BloodPressure$dose == :\n",
            "“BloodPressure$bp.reduction[BloodPressure$dose == \"dose_10\"] coerced to factor.”\n"
          ]
        },
        {
          "output_type": "display_data",
          "data": {
            "text/html": [
              "<table class=\"dataframe\">\n",
              "<caption>A anova: 2 × 3</caption>\n",
              "<thead>\n",
              "\t<tr><th></th><th scope=col>Df</th><th scope=col>F value</th><th scope=col>Pr(&gt;F)</th></tr>\n",
              "\t<tr><th></th><th scope=col>&lt;int&gt;</th><th scope=col>&lt;dbl&gt;</th><th scope=col>&lt;dbl&gt;</th></tr>\n",
              "</thead>\n",
              "<tbody>\n",
              "\t<tr><th scope=row>group</th><td>7</td><td>0.1</td><td>0.991127</td></tr>\n",
              "\t<tr><th scope=row> </th><td>2</td><td> NA</td><td>      NA</td></tr>\n",
              "</tbody>\n",
              "</table>\n"
            ],
            "text/markdown": "\nA anova: 2 × 3\n\n| <!--/--> | Df &lt;int&gt; | F value &lt;dbl&gt; | Pr(&gt;F) &lt;dbl&gt; |\n|---|---|---|---|\n| group | 7 | 0.1 | 0.991127 |\n| <!----> | 2 |  NA |       NA |\n\n",
            "text/latex": "A anova: 2 × 3\n\\begin{tabular}{r|lll}\n  & Df & F value & Pr(>F)\\\\\n  & <int> & <dbl> & <dbl>\\\\\n\\hline\n\tgroup & 7 & 0.1 & 0.991127\\\\\n\t  & 2 &  NA &       NA\\\\\n\\end{tabular}\n",
            "text/plain": [
              "      Df F value Pr(>F)  \n",
              "group 7  0.1     0.991127\n",
              "      2   NA           NA"
            ]
          },
          "metadata": {}
        }
      ]
    },
    {
      "cell_type": "code",
      "source": [
        "var.test(BloodPressure$bp.reduction[BloodPressure$dose == \"dose_0\"], BloodPressure$bp.reduction[BloodPressure$dose == \"dose_10\"])\n"
      ],
      "metadata": {
        "colab": {
          "base_uri": "https://localhost:8080/",
          "height": 208
        },
        "id": "gT2pzTSg2IJF",
        "outputId": "541453b7-14bf-4c9a-d434-01450de73826"
      },
      "execution_count": 62,
      "outputs": [
        {
          "output_type": "display_data",
          "data": {
            "text/plain": [
              "\n",
              "\tF test to compare two variances\n",
              "\n",
              "data:  BloodPressure$bp.reduction[BloodPressure$dose == \"dose_0\"] and BloodPressure$bp.reduction[BloodPressure$dose == \"dose_10\"]\n",
              "F = 0.72797, num df = 9, denom df = 9, p-value = 0.6439\n",
              "alternative hypothesis: true ratio of variances is not equal to 1\n",
              "95 percent confidence interval:\n",
              " 0.1808169 2.9307941\n",
              "sample estimates:\n",
              "ratio of variances \n",
              "         0.7279678 \n"
            ]
          },
          "metadata": {}
        }
      ]
    },
    {
      "cell_type": "code",
      "source": [
        "bartlett.test(list(BloodPressure$bp.reduction[BloodPressure$dose == \"dose_0\"], BloodPressure$bp.reduction[BloodPressure$dose == \"dose_10\"]))"
      ],
      "metadata": {
        "colab": {
          "base_uri": "https://localhost:8080/",
          "height": 104
        },
        "id": "6ngtVBhD2IEc",
        "outputId": "e9e605f1-ac80-4f67-f64e-a4512d3dad73"
      },
      "execution_count": 63,
      "outputs": [
        {
          "output_type": "display_data",
          "data": {
            "text/plain": [
              "\n",
              "\tBartlett test of homogeneity of variances\n",
              "\n",
              "data:  list(BloodPressure$bp.reduction[BloodPressure$dose == \"dose_0\"], BloodPressure$bp.reduction[BloodPressure$dose == \"dose_10\"])\n",
              "Bartlett's K-squared = 0.21398, df = 1, p-value = 0.6437\n"
            ]
          },
          "metadata": {}
        }
      ]
    },
    {
      "cell_type": "code",
      "source": [
        "#   Our data is normal and homoscedastic, therefore, our assumption is wrong we should use (Two Sample T Test)"
      ],
      "metadata": {
        "id": "szdjFjWS2IAP"
      },
      "execution_count": 64,
      "outputs": []
    },
    {
      "cell_type": "markdown",
      "metadata": {
        "id": "HRQ3fwQWyjJ3"
      },
      "source": [
        "### 6.3 We hypothesis that bp.reduction is different between the different doses (ignoring the gender). Can you perform comparison between the different groups, after assessing the assumptions and performing post-hoc testing.\n",
        "\n"
      ]
    },
    {
      "cell_type": "code",
      "execution_count": 65,
      "metadata": {
        "colab": {
          "base_uri": "https://localhost:8080/",
          "height": 538
        },
        "id": "xjouK-0LyjJ5",
        "outputId": "9852b222-0c98-4553-ce23-ee13a5504fbf"
      },
      "outputs": [
        {
          "output_type": "display_data",
          "data": {
            "text/plain": [
              "BloodPressure$dose: dose_0\n",
              "\n",
              "\tShapiro-Wilk normality test\n",
              "\n",
              "data:  dd[x, ]\n",
              "W = 0.94538, p-value = 0.6143\n",
              "\n",
              "------------------------------------------------------------ \n",
              "BloodPressure$dose: dose_2\n",
              "\n",
              "\tShapiro-Wilk normality test\n",
              "\n",
              "data:  dd[x, ]\n",
              "W = 0.95757, p-value = 0.7578\n",
              "\n",
              "------------------------------------------------------------ \n",
              "BloodPressure$dose: dose_5\n",
              "\n",
              "\tShapiro-Wilk normality test\n",
              "\n",
              "data:  dd[x, ]\n",
              "W = 0.95795, p-value = 0.7623\n",
              "\n",
              "------------------------------------------------------------ \n",
              "BloodPressure$dose: dose_10\n",
              "\n",
              "\tShapiro-Wilk normality test\n",
              "\n",
              "data:  dd[x, ]\n",
              "W = 0.95916, p-value = 0.7763\n"
            ]
          },
          "metadata": {}
        }
      ],
      "source": [
        "# Null Hypothesis: bp.reduction is the same between the different doses\n",
        "# Alternative Hypothesis: bp.reduction is different between the different doses\n",
        "\n",
        "shapiro_test <- by(BloodPressure$bp.reduction, BloodPressure$dose, shapiro.test)\n",
        "shapiro_test\n"
      ]
    },
    {
      "cell_type": "code",
      "source": [
        "levene_test <- leveneTest(bp.reduction ~ dose, data = BloodPressure)\n",
        "levene_test"
      ],
      "metadata": {
        "colab": {
          "base_uri": "https://localhost:8080/",
          "height": 161
        },
        "id": "bU7v6ziE1-pw",
        "outputId": "495e2cea-3c37-4426-a128-3dd46efc512d"
      },
      "execution_count": 66,
      "outputs": [
        {
          "output_type": "display_data",
          "data": {
            "text/html": [
              "<table class=\"dataframe\">\n",
              "<caption>A anova: 2 × 3</caption>\n",
              "<thead>\n",
              "\t<tr><th></th><th scope=col>Df</th><th scope=col>F value</th><th scope=col>Pr(&gt;F)</th></tr>\n",
              "\t<tr><th></th><th scope=col>&lt;int&gt;</th><th scope=col>&lt;dbl&gt;</th><th scope=col>&lt;dbl&gt;</th></tr>\n",
              "</thead>\n",
              "<tbody>\n",
              "\t<tr><th scope=row>group</th><td> 3</td><td>0.9517159</td><td>0.425965</td></tr>\n",
              "\t<tr><th scope=row> </th><td>36</td><td>       NA</td><td>      NA</td></tr>\n",
              "</tbody>\n",
              "</table>\n"
            ],
            "text/markdown": "\nA anova: 2 × 3\n\n| <!--/--> | Df &lt;int&gt; | F value &lt;dbl&gt; | Pr(&gt;F) &lt;dbl&gt; |\n|---|---|---|---|\n| group |  3 | 0.9517159 | 0.425965 |\n| <!----> | 36 |        NA |       NA |\n\n",
            "text/latex": "A anova: 2 × 3\n\\begin{tabular}{r|lll}\n  & Df & F value & Pr(>F)\\\\\n  & <int> & <dbl> & <dbl>\\\\\n\\hline\n\tgroup &  3 & 0.9517159 & 0.425965\\\\\n\t  & 36 &        NA &       NA\\\\\n\\end{tabular}\n",
            "text/plain": [
              "      Df F value   Pr(>F)  \n",
              "group  3 0.9517159 0.425965\n",
              "      36        NA       NA"
            ]
          },
          "metadata": {}
        }
      ]
    },
    {
      "cell_type": "code",
      "source": [
        "anov <- aov(bp.reduction ~ dose, data = BloodPressure)\n",
        "report(anov)"
      ],
      "metadata": {
        "colab": {
          "base_uri": "https://localhost:8080/",
          "height": 52
        },
        "id": "mggB6KP216ZK",
        "outputId": "0a94e62e-e79a-4b2d-9c37-b87802032a3e"
      },
      "execution_count": 67,
      "outputs": [
        {
          "output_type": "display_data",
          "data": {
            "text/html": [
              "<span style=white-space:pre-wrap>'The ANOVA (formula: bp.reduction ~ dose) suggests that:\\n\\n  - The main effect of dose is statistically significant and large (F(3, 36) = 35.42, p &lt; .001; Eta2 = 0.75, 95% CI [0.61, 1.00])\\n\\nEffect sizes were labelled following Field\\'s (2013) recommendations.'</span>"
            ],
            "text/markdown": "<span style=white-space:pre-wrap>'The ANOVA (formula: bp.reduction ~ dose) suggests that:\\n\\n  - The main effect of dose is statistically significant and large (F(3, 36) = 35.42, p &lt; .001; Eta2 = 0.75, 95% CI [0.61, 1.00])\\n\\nEffect sizes were labelled following Field\\'s (2013) recommendations.'</span>",
            "text/latex": "'The ANOVA (formula: bp.reduction \\textasciitilde{} dose) suggests that:\\textbackslash{}n\\textbackslash{}n  - The main effect of dose is statistically significant and large (F(3, 36) = 35.42, p < .001; Eta2 = 0.75, 95\\% CI {[}0.61, 1.00{]})\\textbackslash{}n\\textbackslash{}nEffect sizes were labelled following Field\\textbackslash{}'s (2013) recommendations.'",
            "text/plain": [
              "The ANOVA (formula: bp.reduction ~ dose) suggests that:\n",
              "\n",
              "  - The main effect of dose is statistically significant and large (F(3, 36) =\n",
              "35.42, p < .001; Eta2 = 0.75, 95% CI [0.61, 1.00])\n",
              "\n",
              "Effect sizes were labelled following Field's (2013) recommendations."
            ]
          },
          "metadata": {}
        }
      ]
    },
    {
      "cell_type": "code",
      "source": [
        "anova_summary <- summary(anov)\n",
        "SSE <- anova_summary$`Residuals`$SumSq\n",
        "SSE"
      ],
      "metadata": {
        "colab": {
          "base_uri": "https://localhost:8080/",
          "height": 34
        },
        "id": "GIy63s9Y1xA5",
        "outputId": "a77c8bdf-dbbb-4708-a820-3c167f6790bc"
      },
      "execution_count": 68,
      "outputs": [
        {
          "output_type": "display_data",
          "data": {
            "text/plain": [
              "NULL"
            ]
          },
          "metadata": {}
        }
      ]
    },
    {
      "cell_type": "code",
      "source": [
        "# Assuming you have an ANOVA summary stored in the 'anova_summary' object\n",
        "SSR <- anova_summary$`Model`$SumSq\n",
        "SSR"
      ],
      "metadata": {
        "colab": {
          "base_uri": "https://localhost:8080/",
          "height": 34
        },
        "id": "2MTbgkxr1uwJ",
        "outputId": "a434c140-fcde-4a32-bef2-cf52a952b65c"
      },
      "execution_count": 69,
      "outputs": [
        {
          "output_type": "display_data",
          "data": {
            "text/plain": [
              "NULL"
            ]
          },
          "metadata": {}
        }
      ]
    },
    {
      "cell_type": "code",
      "source": [
        "posthoc <- TukeyHSD(anov)\n",
        "posthoc"
      ],
      "metadata": {
        "colab": {
          "base_uri": "https://localhost:8080/",
          "height": 243
        },
        "id": "xjX2zIBf1sRg",
        "outputId": "16dd4e46-cd05-43e0-be9e-932248e60344"
      },
      "execution_count": 70,
      "outputs": [
        {
          "output_type": "display_data",
          "data": {
            "text/plain": [
              "  Tukey multiple comparisons of means\n",
              "    95% family-wise confidence level\n",
              "\n",
              "Fit: aov(formula = bp.reduction ~ dose, data = BloodPressure)\n",
              "\n",
              "$dose\n",
              "               diff         lwr       upr     p adj\n",
              "dose_2-dose_0   5.4  0.40037278 10.399627 0.0300758\n",
              "dose_5-dose_0  10.3  5.30037278 15.299627 0.0000161\n",
              "dose_10-dose_0 18.4 13.40037278 23.399627 0.0000000\n",
              "dose_5-dose_2   4.9 -0.09962722  9.899627 0.0564941\n",
              "dose_10-dose_2 13.0  8.00037278 17.999627 0.0000002\n",
              "dose_10-dose_5  8.1  3.10037278 13.099627 0.0005742\n"
            ]
          },
          "metadata": {}
        }
      ]
    },
    {
      "cell_type": "code",
      "source": [
        "plot(posthoc)"
      ],
      "metadata": {
        "colab": {
          "base_uri": "https://localhost:8080/",
          "height": 437
        },
        "id": "QLW9z1_Y1pr5",
        "outputId": "11970a37-00f9-4900-baed-9c51c07f6991"
      },
      "execution_count": 71,
      "outputs": [
        {
          "output_type": "display_data",
          "data": {
            "text/plain": [
              "Plot with title “95% family-wise confidence level\n",
              "”"
            ],
            "image/png": "[encoded data removed]"
          },
          "metadata": {
            "image/png": {
              "width": 420,
              "height": 420
            }
          }
        }
      ]
    },
    {
      "cell_type": "code",
      "source": [
        "# After assessing that our data is normal and homoscedastic we perform posthoc (TuckeyHSD) as the output shows that there is a significant difference in all combinations except the dose_5 – dose_2 were its p value is greater than 0.05.\n",
        "#Therefore, we have enough evidence to reject the null"
      ],
      "metadata": {
        "id": "hA3z3hnr1oyy"
      },
      "execution_count": 72,
      "outputs": []
    },
    {
      "cell_type": "markdown",
      "metadata": {
        "id": "MPtGcF0ryjJ6"
      },
      "source": [
        "## 7. Linear model\n",
        "\n",
        "\n"
      ]
    },
    {
      "cell_type": "markdown",
      "source": [
        "### 7.1 Fiting a linear regression to the data and interpret the regression coefficient (for the same hypotheses mentioned above)"
      ],
      "metadata": {
        "id": "LDb_fc9A0xk7"
      }
    },
    {
      "cell_type": "code",
      "execution_count": 73,
      "metadata": {
        "colab": {
          "base_uri": "https://localhost:8080/",
          "height": 86
        },
        "id": "qR_NO8_QyjJ7",
        "outputId": "bb5e6dc8-4767-446f-9c74-ba70d0915073"
      },
      "outputs": [
        {
          "output_type": "display_data",
          "data": {
            "text/html": [
              "<span style=white-space:pre-wrap>'We fitted a linear model (estimated using OLS) to predict bp.reduction with dose (formula: bp.reduction ~ dose). The model explains a statistically significant and substantial proportion of variance (R2 = 0.74, F(1, 38) = 107.44, p &lt; .001, adj. R2 = 0.73). The model\\'s intercept, corresponding to dose = 0, is at 0.03 (95% CI [-1.95, 2.01], t(38) = 0.03, p = 0.973). Within this model:\\n\\n  - The effect of dose is statistically significant and positive (beta = 1.79, 95% CI [1.44, 2.14], t(38) = 10.37, p &lt; .001; Std. beta = 0.86, 95% CI [0.69, 1.03])\\n\\nStandardized parameters were obtained by fitting the model on a standardized version of the dataset. 95% Confidence Intervals (CIs) and p-values were computed using a Wald t-distribution approximation.'</span>"
            ],
            "text/markdown": "<span style=white-space:pre-wrap>'We fitted a linear model (estimated using OLS) to predict bp.reduction with dose (formula: bp.reduction ~ dose). The model explains a statistically significant and substantial proportion of variance (R2 = 0.74, F(1, 38) = 107.44, p &lt; .001, adj. R2 = 0.73). The model\\'s intercept, corresponding to dose = 0, is at 0.03 (95% CI [-1.95, 2.01], t(38) = 0.03, p = 0.973). Within this model:\\n\\n  - The effect of dose is statistically significant and positive (beta = 1.79, 95% CI [1.44, 2.14], t(38) = 10.37, p &lt; .001; Std. beta = 0.86, 95% CI [0.69, 1.03])\\n\\nStandardized parameters were obtained by fitting the model on a standardized version of the dataset. 95% Confidence Intervals (CIs) and p-values were computed using a Wald t-distribution approximation.'</span>",
            "text/latex": "'We fitted a linear model (estimated using OLS) to predict bp.reduction with dose (formula: bp.reduction \\textasciitilde{} dose). The model explains a statistically significant and substantial proportion of variance (R2 = 0.74, F(1, 38) = 107.44, p < .001, adj. R2 = 0.73). The model\\textbackslash{}'s intercept, corresponding to dose = 0, is at 0.03 (95\\% CI {[}-1.95, 2.01{]}, t(38) = 0.03, p = 0.973). Within this model:\\textbackslash{}n\\textbackslash{}n  - The effect of dose is statistically significant and positive (beta = 1.79, 95\\% CI {[}1.44, 2.14{]}, t(38) = 10.37, p < .001; Std. beta = 0.86, 95\\% CI {[}0.69, 1.03{]})\\textbackslash{}n\\textbackslash{}nStandardized parameters were obtained by fitting the model on a standardized version of the dataset. 95\\% Confidence Intervals (CIs) and p-values were computed using a Wald t-distribution approximation.'",
            "text/plain": [
              "We fitted a linear model (estimated using OLS) to predict bp.reduction with\n",
              "dose (formula: bp.reduction ~ dose). The model explains a statistically\n",
              "significant and substantial proportion of variance (R2 = 0.74, F(1, 38) =\n",
              "107.44, p < .001, adj. R2 = 0.73). The model's intercept, corresponding to dose\n",
              "= 0, is at 0.03 (95% CI [-1.95, 2.01], t(38) = 0.03, p = 0.973). Within this\n",
              "model:\n",
              "\n",
              "  - The effect of dose is statistically significant and positive (beta = 1.79,\n",
              "95% CI [1.44, 2.14], t(38) = 10.37, p < .001; Std. beta = 0.86, 95% CI [0.69,\n",
              "1.03])\n",
              "\n",
              "Standardized parameters were obtained by fitting the model on a standardized\n",
              "version of the dataset. 95% Confidence Intervals (CIs) and p-values were\n",
              "computed using a Wald t-distribution approximation."
            ]
          },
          "metadata": {}
        }
      ],
      "source": [
        "#reseting our data reading\n",
        "load(\"BloodPressure.RData\")\n",
        "\n",
        "res <- lm(bp.reduction ~ dose, BloodPressure)\n",
        "report(res)"
      ]
    },
    {
      "cell_type": "code",
      "source": [
        "plot(BloodPressure$dose, BloodPressure$bp.reduction, ylab = \"Blood Pressure Reduction\", xlab = \"Dose\", col = \"Blue\")\n",
        "abline(res)"
      ],
      "metadata": {
        "colab": {
          "base_uri": "https://localhost:8080/",
          "height": 437
        },
        "id": "Y0AzVpx_01tR",
        "outputId": "fbc8e7d8-15b2-4ebb-a0ba-dcb463994a7b"
      },
      "execution_count": 74,
      "outputs": [
        {
          "output_type": "display_data",
          "data": {
            "text/plain": [
              "plot without title"
            ],
            "image/png": "[encoded data removed]"
          },
          "metadata": {
            "image/png": {
              "width": 420,
              "height": 420
            }
          }
        }
      ]
    },
    {
      "cell_type": "markdown",
      "metadata": {
        "id": "HeWXbC9uyjJ9"
      },
      "source": [
        "### 7.2 Calculating and interpret a 95% confidence interval of the regression slope\n",
        "\n"
      ]
    },
    {
      "cell_type": "code",
      "execution_count": 75,
      "metadata": {
        "colab": {
          "base_uri": "https://localhost:8080/",
          "height": 129
        },
        "id": "LjAjLu7-yjKC",
        "outputId": "28e2e48d-b73d-4db2-b275-72dbce171819"
      },
      "outputs": [
        {
          "output_type": "display_data",
          "data": {
            "text/html": [
              "<table class=\"dataframe\">\n",
              "<caption>A matrix: 2 × 4 of type dbl</caption>\n",
              "<thead>\n",
              "\t<tr><th></th><th scope=col>Estimate</th><th scope=col>Std. Error</th><th scope=col>t value</th><th scope=col>Pr(&gt;|t|)</th></tr>\n",
              "</thead>\n",
              "<tbody>\n",
              "\t<tr><th scope=row>(Intercept)</th><td>0.03303965</td><td>0.9786767</td><td> 0.03375951</td><td>9.732456e-01</td></tr>\n",
              "\t<tr><th scope=row>dose</th><td>1.78634361</td><td>0.1723354</td><td>10.36550870</td><td>1.247000e-12</td></tr>\n",
              "</tbody>\n",
              "</table>\n"
            ],
            "text/markdown": "\nA matrix: 2 × 4 of type dbl\n\n| <!--/--> | Estimate | Std. Error | t value | Pr(&gt;|t|) |\n|---|---|---|---|---|\n| (Intercept) | 0.03303965 | 0.9786767 |  0.03375951 | 9.732456e-01 |\n| dose | 1.78634361 | 0.1723354 | 10.36550870 | 1.247000e-12 |\n\n",
            "text/latex": "A matrix: 2 × 4 of type dbl\n\\begin{tabular}{r|llll}\n  & Estimate & Std. Error & t value & Pr(>\\textbar{}t\\textbar{})\\\\\n\\hline\n\t(Intercept) & 0.03303965 & 0.9786767 &  0.03375951 & 9.732456e-01\\\\\n\tdose & 1.78634361 & 0.1723354 & 10.36550870 & 1.247000e-12\\\\\n\\end{tabular}\n",
            "text/plain": [
              "            Estimate   Std. Error t value     Pr(>|t|)    \n",
              "(Intercept) 0.03303965 0.9786767   0.03375951 9.732456e-01\n",
              "dose        1.78634361 0.1723354  10.36550870 1.247000e-12"
            ]
          },
          "metadata": {}
        }
      ],
      "source": [
        "# Extracting the coefficient summary\n",
        "summary_coef <- summary(res)$coefficients\n",
        "summary_coef\n"
      ]
    },
    {
      "cell_type": "code",
      "source": [
        "# Extracting the estimated slope and its standard error\n",
        "slope <- summary_coef[\"dose\", \"Estimate\"]\n",
        "SEb <- summary_coef[\"dose\", \"Std. Error\"]\n",
        "# Calculating the t-value for the desired confidence level\n",
        "t_value <- qt(0.975, df = res$df.residual)\n",
        "t_value"
      ],
      "metadata": {
        "colab": {
          "base_uri": "https://localhost:8080/",
          "height": 34
        },
        "id": "1h1cLdfd1HAQ",
        "outputId": "3d966c10-34e5-4a55-95a1-89f100356191"
      },
      "execution_count": 76,
      "outputs": [
        {
          "output_type": "display_data",
          "data": {
            "text/html": [
              "2.02439416391197"
            ],
            "text/markdown": "2.02439416391197",
            "text/latex": "2.02439416391197",
            "text/plain": [
              "[1] 2.024394"
            ]
          },
          "metadata": {}
        }
      ]
    },
    {
      "cell_type": "code",
      "source": [
        "# Calculating the confidence interval for the slope\n",
        "lower_bound <- slope - t_value * SEb\n",
        "upper_bound <- slope + t_value * SEb\n",
        "\n",
        "# Printing the confidence interval\n",
        "cat(\"95% Confidence Interval for the Regression Slope:\", \"\\n\")"
      ],
      "metadata": {
        "colab": {
          "base_uri": "https://localhost:8080/"
        },
        "id": "qXWXFd2R1LO9",
        "outputId": "a01e1781-980f-4b74-8fd5-1c70808e7064"
      },
      "execution_count": 77,
      "outputs": [
        {
          "output_type": "stream",
          "name": "stdout",
          "text": [
            "95% Confidence Interval for the Regression Slope: \n"
          ]
        }
      ]
    },
    {
      "cell_type": "code",
      "source": [
        "cat(\"Lower Bound:\", lower_bound, \"\\n\")"
      ],
      "metadata": {
        "colab": {
          "base_uri": "https://localhost:8080/"
        },
        "id": "oiRqNrff1LKf",
        "outputId": "5583dd68-170b-4cd5-96ca-5610947de33a"
      },
      "execution_count": 78,
      "outputs": [
        {
          "output_type": "stream",
          "name": "stdout",
          "text": [
            "Lower Bound: 1.437469 \n"
          ]
        }
      ]
    },
    {
      "cell_type": "code",
      "source": [
        "cat(\"Upper Bound:\", upper_bound, \"\\n\")"
      ],
      "metadata": {
        "colab": {
          "base_uri": "https://localhost:8080/"
        },
        "id": "9P_HrE_p1LF3",
        "outputId": "136d8b61-019b-43b6-81fc-fc2af1c6dca9"
      },
      "execution_count": 79,
      "outputs": [
        {
          "output_type": "stream",
          "name": "stdout",
          "text": [
            "Upper Bound: 2.135218 \n"
          ]
        }
      ]
    },
    {
      "cell_type": "code",
      "source": [
        "confint(res, 'dose', level=0.95)"
      ],
      "metadata": {
        "colab": {
          "base_uri": "https://localhost:8080/",
          "height": 98
        },
        "id": "NJyRKezK1Z9P",
        "outputId": "3a3ef43a-a955-4e5f-a68e-efbb15b15ea7"
      },
      "execution_count": 80,
      "outputs": [
        {
          "output_type": "display_data",
          "data": {
            "text/html": [
              "<table class=\"dataframe\">\n",
              "<caption>A matrix: 1 × 2 of type dbl</caption>\n",
              "<thead>\n",
              "\t<tr><th></th><th scope=col>2.5 %</th><th scope=col>97.5 %</th></tr>\n",
              "</thead>\n",
              "<tbody>\n",
              "\t<tr><th scope=row>dose</th><td>1.437469</td><td>2.135218</td></tr>\n",
              "</tbody>\n",
              "</table>\n"
            ],
            "text/markdown": "\nA matrix: 1 × 2 of type dbl\n\n| <!--/--> | 2.5 % | 97.5 % |\n|---|---|---|\n| dose | 1.437469 | 2.135218 |\n\n",
            "text/latex": "A matrix: 1 × 2 of type dbl\n\\begin{tabular}{r|ll}\n  & 2.5 \\% & 97.5 \\%\\\\\n\\hline\n\tdose & 1.437469 & 2.135218\\\\\n\\end{tabular}\n",
            "text/plain": [
              "     2.5 %    97.5 %  \n",
              "dose 1.437469 2.135218"
            ]
          },
          "metadata": {}
        }
      ]
    },
    {
      "cell_type": "markdown",
      "metadata": {
        "id": "KqT339YByjKD"
      },
      "source": [
        "### 7.3 Estimating the average blood pressure reduction for patients that would receive 3mg/day of the medication.\n",
        "\n"
      ]
    },
    {
      "cell_type": "code",
      "execution_count": 81,
      "metadata": {
        "colab": {
          "base_uri": "https://localhost:8080/",
          "height": 98
        },
        "id": "jxL1Zq6fyjKE",
        "outputId": "d7f2bdc1-3b54-489d-9edf-53fc14a5439b"
      },
      "outputs": [
        {
          "output_type": "display_data",
          "data": {
            "text/html": [
              "<table class=\"dataframe\">\n",
              "<caption>A matrix: 1 × 3 of type dbl</caption>\n",
              "<thead>\n",
              "\t<tr><th></th><th scope=col>fit</th><th scope=col>lwr</th><th scope=col>upr</th></tr>\n",
              "</thead>\n",
              "<tbody>\n",
              "\t<tr><th scope=row>1</th><td>5.39207</td><td>-3.033452</td><td>13.81759</td></tr>\n",
              "</tbody>\n",
              "</table>\n"
            ],
            "text/markdown": "\nA matrix: 1 × 3 of type dbl\n\n| <!--/--> | fit | lwr | upr |\n|---|---|---|---|\n| 1 | 5.39207 | -3.033452 | 13.81759 |\n\n",
            "text/latex": "A matrix: 1 × 3 of type dbl\n\\begin{tabular}{r|lll}\n  & fit & lwr & upr\\\\\n\\hline\n\t1 & 5.39207 & -3.033452 & 13.81759\\\\\n\\end{tabular}\n",
            "text/plain": [
              "  fit     lwr       upr     \n",
              "1 5.39207 -3.033452 13.81759"
            ]
          },
          "metadata": {}
        }
      ],
      "source": [
        "predict(res,newdata=data.frame(dose=3), interval=\"prediction\",level=0.95)\n",
        "\n"
      ]
    }
  ],
  "metadata": {
    "anaconda-cloud": "",
    "kernelspec": {
      "display_name": "R",
      "langauge": "R",
      "name": "ir"
    },
    "language_info": {
      "codemirror_mode": "r",
      "file_extension": ".r",
      "mimetype": "text/x-r-source",
      "name": "R",
      "pygments_lexer": "r",
      "version": "3.4.1"
    },
    "colab": {
      "provenance": []
    }
  },
  "nbformat": 4,
  "nbformat_minor": 0
}